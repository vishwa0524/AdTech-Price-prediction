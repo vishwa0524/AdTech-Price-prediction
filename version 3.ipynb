{
 "cells": [
  {
   "cell_type": "code",
   "execution_count": 1,
   "id": "887acbb0",
   "metadata": {},
   "outputs": [],
   "source": [
    "import numpy as np\n",
    "import pandas as pd\n",
    "import matplotlib.pyplot as plt\n",
    "%matplotlib inline\n",
    "import seaborn as sns\n",
    "import warnings\n",
    "warnings.filterwarnings('ignore')"
   ]
  },
  {
   "cell_type": "code",
   "execution_count": 2,
   "id": "c500b5e3",
   "metadata": {},
   "outputs": [],
   "source": [
    "from sklearn.preprocessing import StandardScaler\n",
    "from sklearn.feature_selection import RFE\n",
    "from sklearn.model_selection import train_test_split, cross_val_score, GridSearchCV\n",
    "from sklearn.linear_model import LinearRegression, Lasso, Ridge\n",
    "from sklearn.metrics import mean_absolute_error, mean_squared_error\n",
    "from sklearn.tree import DecisionTreeRegressor\n",
    "from sklearn.ensemble import RandomForestRegressor, AdaBoostRegressor, GradientBoostingRegressor, ExtraTreesRegressor, BaggingRegressor \n",
    "from xgboost import XGBRegressor\n",
    "from sklearn.svm import SVR"
   ]
  },
  {
   "cell_type": "code",
   "execution_count": 3,
   "id": "51d14942",
   "metadata": {},
   "outputs": [
    {
     "data": {
      "text/html": [
       "<div>\n",
       "<style scoped>\n",
       "    .dataframe tbody tr th:only-of-type {\n",
       "        vertical-align: middle;\n",
       "    }\n",
       "\n",
       "    .dataframe tbody tr th {\n",
       "        vertical-align: top;\n",
       "    }\n",
       "\n",
       "    .dataframe thead th {\n",
       "        text-align: right;\n",
       "    }\n",
       "</style>\n",
       "<table border=\"1\" class=\"dataframe\">\n",
       "  <thead>\n",
       "    <tr style=\"text-align: right;\">\n",
       "      <th></th>\n",
       "      <th>date</th>\n",
       "      <th>campaign</th>\n",
       "      <th>adgroup</th>\n",
       "      <th>ad</th>\n",
       "      <th>impressions</th>\n",
       "      <th>clicks</th>\n",
       "      <th>cost</th>\n",
       "      <th>conversions</th>\n",
       "      <th>revenue</th>\n",
       "    </tr>\n",
       "  </thead>\n",
       "  <tbody>\n",
       "    <tr>\n",
       "      <th>0</th>\n",
       "      <td>01-08-2020</td>\n",
       "      <td>campaign 1</td>\n",
       "      <td>adgroup 1</td>\n",
       "      <td>ad 1</td>\n",
       "      <td>24</td>\n",
       "      <td>6</td>\n",
       "      <td>0.08</td>\n",
       "      <td>0</td>\n",
       "      <td>0.00</td>\n",
       "    </tr>\n",
       "    <tr>\n",
       "      <th>1</th>\n",
       "      <td>01-08-2020</td>\n",
       "      <td>campaign 1</td>\n",
       "      <td>adgroup 2</td>\n",
       "      <td>ad 1</td>\n",
       "      <td>1</td>\n",
       "      <td>0</td>\n",
       "      <td>0.00</td>\n",
       "      <td>0</td>\n",
       "      <td>0.00</td>\n",
       "    </tr>\n",
       "    <tr>\n",
       "      <th>2</th>\n",
       "      <td>01-08-2020</td>\n",
       "      <td>campaign 1</td>\n",
       "      <td>adgroup 3</td>\n",
       "      <td>ad 1</td>\n",
       "      <td>13</td>\n",
       "      <td>4</td>\n",
       "      <td>0.04</td>\n",
       "      <td>0</td>\n",
       "      <td>0.00</td>\n",
       "    </tr>\n",
       "    <tr>\n",
       "      <th>3</th>\n",
       "      <td>01-08-2020</td>\n",
       "      <td>campaign 1</td>\n",
       "      <td>adgroup 4</td>\n",
       "      <td>ad 1</td>\n",
       "      <td>5</td>\n",
       "      <td>4</td>\n",
       "      <td>0.08</td>\n",
       "      <td>0</td>\n",
       "      <td>0.00</td>\n",
       "    </tr>\n",
       "    <tr>\n",
       "      <th>4</th>\n",
       "      <td>01-08-2020</td>\n",
       "      <td>campaign 1</td>\n",
       "      <td>adgroup 1</td>\n",
       "      <td>ad 2</td>\n",
       "      <td>247</td>\n",
       "      <td>126</td>\n",
       "      <td>1.29</td>\n",
       "      <td>4</td>\n",
       "      <td>925.71</td>\n",
       "    </tr>\n",
       "    <tr>\n",
       "      <th>5</th>\n",
       "      <td>01-08-2020</td>\n",
       "      <td>campaign 1</td>\n",
       "      <td>adgroup 2</td>\n",
       "      <td>ad 2</td>\n",
       "      <td>7</td>\n",
       "      <td>2</td>\n",
       "      <td>0.04</td>\n",
       "      <td>0</td>\n",
       "      <td>0.00</td>\n",
       "    </tr>\n",
       "    <tr>\n",
       "      <th>6</th>\n",
       "      <td>01-08-2020</td>\n",
       "      <td>campaign 1</td>\n",
       "      <td>adgroup 4</td>\n",
       "      <td>ad 2</td>\n",
       "      <td>6</td>\n",
       "      <td>3</td>\n",
       "      <td>0.05</td>\n",
       "      <td>0</td>\n",
       "      <td>0.00</td>\n",
       "    </tr>\n",
       "    <tr>\n",
       "      <th>7</th>\n",
       "      <td>01-08-2020</td>\n",
       "      <td>campaign 1</td>\n",
       "      <td>adgroup 1</td>\n",
       "      <td>ad 3</td>\n",
       "      <td>129</td>\n",
       "      <td>52</td>\n",
       "      <td>0.58</td>\n",
       "      <td>0</td>\n",
       "      <td>0.00</td>\n",
       "    </tr>\n",
       "    <tr>\n",
       "      <th>8</th>\n",
       "      <td>01-08-2020</td>\n",
       "      <td>campaign 1</td>\n",
       "      <td>adgroup 3</td>\n",
       "      <td>ad 3</td>\n",
       "      <td>104</td>\n",
       "      <td>56</td>\n",
       "      <td>0.56</td>\n",
       "      <td>0</td>\n",
       "      <td>0.00</td>\n",
       "    </tr>\n",
       "    <tr>\n",
       "      <th>9</th>\n",
       "      <td>01-08-2020</td>\n",
       "      <td>campaign 1</td>\n",
       "      <td>adgroup 4</td>\n",
       "      <td>ad 3</td>\n",
       "      <td>6</td>\n",
       "      <td>5</td>\n",
       "      <td>0.05</td>\n",
       "      <td>0</td>\n",
       "      <td>0.00</td>\n",
       "    </tr>\n",
       "  </tbody>\n",
       "</table>\n",
       "</div>"
      ],
      "text/plain": [
       "         date    campaign    adgroup    ad  impressions  clicks  cost  \\\n",
       "0  01-08-2020  campaign 1  adgroup 1  ad 1           24       6  0.08   \n",
       "1  01-08-2020  campaign 1  adgroup 2  ad 1            1       0  0.00   \n",
       "2  01-08-2020  campaign 1  adgroup 3  ad 1           13       4  0.04   \n",
       "3  01-08-2020  campaign 1  adgroup 4  ad 1            5       4  0.08   \n",
       "4  01-08-2020  campaign 1  adgroup 1  ad 2          247     126  1.29   \n",
       "5  01-08-2020  campaign 1  adgroup 2  ad 2            7       2  0.04   \n",
       "6  01-08-2020  campaign 1  adgroup 4  ad 2            6       3  0.05   \n",
       "7  01-08-2020  campaign 1  adgroup 1  ad 3          129      52  0.58   \n",
       "8  01-08-2020  campaign 1  adgroup 3  ad 3          104      56  0.56   \n",
       "9  01-08-2020  campaign 1  adgroup 4  ad 3            6       5  0.05   \n",
       "\n",
       "   conversions  revenue  \n",
       "0            0     0.00  \n",
       "1            0     0.00  \n",
       "2            0     0.00  \n",
       "3            0     0.00  \n",
       "4            4   925.71  \n",
       "5            0     0.00  \n",
       "6            0     0.00  \n",
       "7            0     0.00  \n",
       "8            0     0.00  \n",
       "9            0     0.00  "
      ]
     },
     "execution_count": 3,
     "metadata": {},
     "output_type": "execute_result"
    }
   ],
   "source": [
    "orig_train_df = pd.read_csv('Train_Data.csv')\n",
    "orig_train_df.head(10)"
   ]
  },
  {
   "cell_type": "code",
   "execution_count": 4,
   "id": "69ec6f5a",
   "metadata": {},
   "outputs": [
    {
     "data": {
      "text/html": [
       "<div>\n",
       "<style scoped>\n",
       "    .dataframe tbody tr th:only-of-type {\n",
       "        vertical-align: middle;\n",
       "    }\n",
       "\n",
       "    .dataframe tbody tr th {\n",
       "        vertical-align: top;\n",
       "    }\n",
       "\n",
       "    .dataframe thead th {\n",
       "        text-align: right;\n",
       "    }\n",
       "</style>\n",
       "<table border=\"1\" class=\"dataframe\">\n",
       "  <thead>\n",
       "    <tr style=\"text-align: right;\">\n",
       "      <th></th>\n",
       "      <th>count</th>\n",
       "      <th>mean</th>\n",
       "      <th>std</th>\n",
       "      <th>min</th>\n",
       "      <th>25%</th>\n",
       "      <th>50%</th>\n",
       "      <th>75%</th>\n",
       "      <th>max</th>\n",
       "    </tr>\n",
       "  </thead>\n",
       "  <tbody>\n",
       "    <tr>\n",
       "      <th>impressions</th>\n",
       "      <td>4571.0</td>\n",
       "      <td>92.635747</td>\n",
       "      <td>198.349737</td>\n",
       "      <td>1.0</td>\n",
       "      <td>6.00</td>\n",
       "      <td>16.00</td>\n",
       "      <td>84.00</td>\n",
       "      <td>3239.00</td>\n",
       "    </tr>\n",
       "    <tr>\n",
       "      <th>clicks</th>\n",
       "      <td>4571.0</td>\n",
       "      <td>43.340844</td>\n",
       "      <td>100.164913</td>\n",
       "      <td>0.0</td>\n",
       "      <td>2.00</td>\n",
       "      <td>7.00</td>\n",
       "      <td>38.00</td>\n",
       "      <td>1771.00</td>\n",
       "    </tr>\n",
       "    <tr>\n",
       "      <th>cost</th>\n",
       "      <td>4571.0</td>\n",
       "      <td>2.800834</td>\n",
       "      <td>14.361618</td>\n",
       "      <td>0.0</td>\n",
       "      <td>0.04</td>\n",
       "      <td>0.21</td>\n",
       "      <td>1.35</td>\n",
       "      <td>531.25</td>\n",
       "    </tr>\n",
       "    <tr>\n",
       "      <th>conversions</th>\n",
       "      <td>4571.0</td>\n",
       "      <td>1.339094</td>\n",
       "      <td>5.223922</td>\n",
       "      <td>0.0</td>\n",
       "      <td>0.00</td>\n",
       "      <td>0.00</td>\n",
       "      <td>1.00</td>\n",
       "      <td>94.00</td>\n",
       "    </tr>\n",
       "    <tr>\n",
       "      <th>revenue</th>\n",
       "      <td>4571.0</td>\n",
       "      <td>231.865340</td>\n",
       "      <td>1091.742763</td>\n",
       "      <td>0.0</td>\n",
       "      <td>0.00</td>\n",
       "      <td>0.00</td>\n",
       "      <td>92.60</td>\n",
       "      <td>20515.41</td>\n",
       "    </tr>\n",
       "  </tbody>\n",
       "</table>\n",
       "</div>"
      ],
      "text/plain": [
       "              count        mean          std  min   25%    50%    75%  \\\n",
       "impressions  4571.0   92.635747   198.349737  1.0  6.00  16.00  84.00   \n",
       "clicks       4571.0   43.340844   100.164913  0.0  2.00   7.00  38.00   \n",
       "cost         4571.0    2.800834    14.361618  0.0  0.04   0.21   1.35   \n",
       "conversions  4571.0    1.339094     5.223922  0.0  0.00   0.00   1.00   \n",
       "revenue      4571.0  231.865340  1091.742763  0.0  0.00   0.00  92.60   \n",
       "\n",
       "                  max  \n",
       "impressions   3239.00  \n",
       "clicks        1771.00  \n",
       "cost           531.25  \n",
       "conversions     94.00  \n",
       "revenue      20515.41  "
      ]
     },
     "execution_count": 4,
     "metadata": {},
     "output_type": "execute_result"
    }
   ],
   "source": [
    "orig_train_df.describe().T"
   ]
  },
  {
   "cell_type": "code",
   "execution_count": 5,
   "id": "d96ac7c0",
   "metadata": {},
   "outputs": [
    {
     "data": {
      "text/plain": [
       "date           0\n",
       "campaign       0\n",
       "adgroup        0\n",
       "ad             0\n",
       "impressions    0\n",
       "clicks         0\n",
       "cost           0\n",
       "conversions    0\n",
       "revenue        0\n",
       "dtype: int64"
      ]
     },
     "execution_count": 5,
     "metadata": {},
     "output_type": "execute_result"
    }
   ],
   "source": [
    "orig_train_df.isna().sum()"
   ]
  },
  {
   "cell_type": "code",
   "execution_count": 6,
   "id": "2893bf34",
   "metadata": {},
   "outputs": [
    {
     "data": {
      "text/plain": [
       "array(['01-08-2020', '02-08-2020', '03-08-2020', '04-08-2020',\n",
       "       '05-08-2020', '06-08-2020', '07-08-2020', '08-08-2020',\n",
       "       '09-08-2020', '10-08-2020', '11-08-2020', '12-08-2020',\n",
       "       '13-08-2020', '14-08-2020', '15-08-2020', '16-08-2020',\n",
       "       '17-08-2020', '18-08-2020', '19-08-2020', '20-08-2020',\n",
       "       '21-08-2020', '22-08-2020', '23-08-2020', '24-08-2020',\n",
       "       '25-08-2020', '26-08-2020', '27-08-2020', '28-08-2020',\n",
       "       '29-08-2020', '30-08-2020', '31-08-2020', '01-09-2020',\n",
       "       '02-09-2020', '03-09-2020', '04-09-2020', '05-09-2020',\n",
       "       '06-09-2020', '07-09-2020', '08-09-2020', '09-09-2020',\n",
       "       '10-09-2020', '11-09-2020', '12-09-2020', '13-09-2020',\n",
       "       '14-09-2020', '15-09-2020', '16-09-2020', '17-09-2020',\n",
       "       '18-09-2020', '19-09-2020', '20-09-2020', '21-09-2020',\n",
       "       '22-09-2020', '23-09-2020', '24-09-2020', '25-09-2020',\n",
       "       '26-09-2020', '27-09-2020', '28-09-2020', '29-09-2020',\n",
       "       '30-09-2020', '01-10-2020', '02-10-2020', '03-10-2020',\n",
       "       '04-10-2020', '05-10-2020', '06-10-2020', '07-10-2020',\n",
       "       '08-10-2020', '09-10-2020', '10-10-2020', '11-10-2020',\n",
       "       '12-10-2020', '13-10-2020', '14-10-2020', '15-10-2020',\n",
       "       '16-10-2020', '17-10-2020', '18-10-2020', '19-10-2020',\n",
       "       '20-10-2020', '21-10-2020', '22-10-2020', '23-10-2020',\n",
       "       '24-10-2020', '25-10-2020', '26-10-2020', '27-10-2020',\n",
       "       '28-10-2020', '29-10-2020', '30-10-2020', '31-10-2020',\n",
       "       '01-11-2020', '02-11-2020', '03-11-2020', '04-11-2020',\n",
       "       '05-11-2020', '06-11-2020', '07-11-2020', '08-11-2020',\n",
       "       '09-11-2020', '10-11-2020', '11-11-2020', '12-11-2020',\n",
       "       '13-11-2020', '14-11-2020', '15-11-2020', '16-11-2020',\n",
       "       '17-11-2020', '18-11-2020', '19-11-2020', '20-11-2020',\n",
       "       '21-11-2020', '22-11-2020', '23-11-2020', '24-11-2020',\n",
       "       '25-11-2020', '26-11-2020', '27-11-2020', '28-11-2020',\n",
       "       '29-11-2020', '30-11-2020', '01-12-2020', '02-12-2020',\n",
       "       '03-12-2020', '04-12-2020', '05-12-2020', '06-12-2020',\n",
       "       '07-12-2020', '08-12-2020', '09-12-2020', '10-12-2020',\n",
       "       '11-12-2020', '12-12-2020', '13-12-2020', '14-12-2020',\n",
       "       '15-12-2020', '16-12-2020', '17-12-2020', '18-12-2020',\n",
       "       '19-12-2020', '20-12-2020', '21-12-2020', '22-12-2020',\n",
       "       '23-12-2020', '24-12-2020', '25-12-2020', '26-12-2020',\n",
       "       '27-12-2020', '28-12-2020', '29-12-2020', '30-12-2020',\n",
       "       '31-12-2020', '01-01-2021', '02-01-2021', '03-01-2021',\n",
       "       '04-01-2021', '05-01-2021', '06-01-2021', '07-01-2021',\n",
       "       '08-01-2021', '09-01-2021', '10-01-2021', '11-01-2021',\n",
       "       '12-01-2021', '13-01-2021', '14-01-2021', '15-01-2021',\n",
       "       '16-01-2021', '17-01-2021', '18-01-2021', '19-01-2021',\n",
       "       '20-01-2021', '21-01-2021', '22-01-2021', '23-01-2021',\n",
       "       '24-01-2021', '25-01-2021', '26-01-2021', '27-01-2021',\n",
       "       '28-01-2021', '29-01-2021', '30-01-2021', '31-01-2021',\n",
       "       '01-02-2021', '02-02-2021', '03-02-2021', '04-02-2021',\n",
       "       '05-02-2021', '06-02-2021', '07-02-2021', '08-02-2021',\n",
       "       '09-02-2021', '10-02-2021', '11-02-2021', '12-02-2021',\n",
       "       '13-02-2021', '14-02-2021', '15-02-2021', '16-02-2021',\n",
       "       '17-02-2021', '18-02-2021', '19-02-2021', '20-02-2021',\n",
       "       '21-02-2021', '22-02-2021', '23-02-2021', '24-02-2021',\n",
       "       '25-02-2021', '26-02-2021', '27-02-2021', '28-02-2021'],\n",
       "      dtype=object)"
      ]
     },
     "execution_count": 6,
     "metadata": {},
     "output_type": "execute_result"
    }
   ],
   "source": [
    "orig_train_df.date.unique()"
   ]
  },
  {
   "cell_type": "code",
   "execution_count": 7,
   "id": "28aad21d",
   "metadata": {},
   "outputs": [
    {
     "data": {
      "text/html": [
       "<div>\n",
       "<style scoped>\n",
       "    .dataframe tbody tr th:only-of-type {\n",
       "        vertical-align: middle;\n",
       "    }\n",
       "\n",
       "    .dataframe tbody tr th {\n",
       "        vertical-align: top;\n",
       "    }\n",
       "\n",
       "    .dataframe thead th {\n",
       "        text-align: right;\n",
       "    }\n",
       "</style>\n",
       "<table border=\"1\" class=\"dataframe\">\n",
       "  <thead>\n",
       "    <tr style=\"text-align: right;\">\n",
       "      <th></th>\n",
       "      <th>date</th>\n",
       "      <th>adgroup</th>\n",
       "      <th>impressions</th>\n",
       "      <th>clicks</th>\n",
       "      <th>cost</th>\n",
       "      <th>conversions</th>\n",
       "      <th>revenue</th>\n",
       "    </tr>\n",
       "  </thead>\n",
       "  <tbody>\n",
       "    <tr>\n",
       "      <th>0</th>\n",
       "      <td>01-08-2020</td>\n",
       "      <td>adgroup 1</td>\n",
       "      <td>24</td>\n",
       "      <td>6</td>\n",
       "      <td>0.08</td>\n",
       "      <td>0</td>\n",
       "      <td>0.00</td>\n",
       "    </tr>\n",
       "    <tr>\n",
       "      <th>1</th>\n",
       "      <td>01-08-2020</td>\n",
       "      <td>adgroup 2</td>\n",
       "      <td>1</td>\n",
       "      <td>0</td>\n",
       "      <td>0.00</td>\n",
       "      <td>0</td>\n",
       "      <td>0.00</td>\n",
       "    </tr>\n",
       "    <tr>\n",
       "      <th>2</th>\n",
       "      <td>01-08-2020</td>\n",
       "      <td>adgroup 3</td>\n",
       "      <td>13</td>\n",
       "      <td>4</td>\n",
       "      <td>0.04</td>\n",
       "      <td>0</td>\n",
       "      <td>0.00</td>\n",
       "    </tr>\n",
       "    <tr>\n",
       "      <th>3</th>\n",
       "      <td>01-08-2020</td>\n",
       "      <td>adgroup 4</td>\n",
       "      <td>5</td>\n",
       "      <td>4</td>\n",
       "      <td>0.08</td>\n",
       "      <td>0</td>\n",
       "      <td>0.00</td>\n",
       "    </tr>\n",
       "    <tr>\n",
       "      <th>4</th>\n",
       "      <td>01-08-2020</td>\n",
       "      <td>adgroup 1</td>\n",
       "      <td>247</td>\n",
       "      <td>126</td>\n",
       "      <td>1.29</td>\n",
       "      <td>4</td>\n",
       "      <td>925.71</td>\n",
       "    </tr>\n",
       "  </tbody>\n",
       "</table>\n",
       "</div>"
      ],
      "text/plain": [
       "         date    adgroup  impressions  clicks  cost  conversions  revenue\n",
       "0  01-08-2020  adgroup 1           24       6  0.08            0     0.00\n",
       "1  01-08-2020  adgroup 2            1       0  0.00            0     0.00\n",
       "2  01-08-2020  adgroup 3           13       4  0.04            0     0.00\n",
       "3  01-08-2020  adgroup 4            5       4  0.08            0     0.00\n",
       "4  01-08-2020  adgroup 1          247     126  1.29            4   925.71"
      ]
     },
     "execution_count": 7,
     "metadata": {},
     "output_type": "execute_result"
    }
   ],
   "source": [
    "df = orig_train_df.copy()\n",
    "df.drop(['ad','campaign'],axis=1,inplace=True)\n",
    "df.head()"
   ]
  },
  {
   "cell_type": "code",
   "execution_count": 8,
   "id": "d207b843",
   "metadata": {},
   "outputs": [
    {
     "data": {
      "text/html": [
       "<div>\n",
       "<style scoped>\n",
       "    .dataframe tbody tr th:only-of-type {\n",
       "        vertical-align: middle;\n",
       "    }\n",
       "\n",
       "    .dataframe tbody tr th {\n",
       "        vertical-align: top;\n",
       "    }\n",
       "\n",
       "    .dataframe thead th {\n",
       "        text-align: right;\n",
       "    }\n",
       "</style>\n",
       "<table border=\"1\" class=\"dataframe\">\n",
       "  <thead>\n",
       "    <tr style=\"text-align: right;\">\n",
       "      <th></th>\n",
       "      <th>date</th>\n",
       "      <th>adgroup</th>\n",
       "      <th>impressions</th>\n",
       "      <th>clicks</th>\n",
       "      <th>cost</th>\n",
       "      <th>conversions</th>\n",
       "      <th>revenue</th>\n",
       "    </tr>\n",
       "  </thead>\n",
       "  <tbody>\n",
       "    <tr>\n",
       "      <th>0</th>\n",
       "      <td>2020-01-08</td>\n",
       "      <td>adgroup 1</td>\n",
       "      <td>24</td>\n",
       "      <td>6</td>\n",
       "      <td>0.08</td>\n",
       "      <td>0</td>\n",
       "      <td>0.00</td>\n",
       "    </tr>\n",
       "    <tr>\n",
       "      <th>1</th>\n",
       "      <td>2020-01-08</td>\n",
       "      <td>adgroup 2</td>\n",
       "      <td>1</td>\n",
       "      <td>0</td>\n",
       "      <td>0.00</td>\n",
       "      <td>0</td>\n",
       "      <td>0.00</td>\n",
       "    </tr>\n",
       "    <tr>\n",
       "      <th>2</th>\n",
       "      <td>2020-01-08</td>\n",
       "      <td>adgroup 3</td>\n",
       "      <td>13</td>\n",
       "      <td>4</td>\n",
       "      <td>0.04</td>\n",
       "      <td>0</td>\n",
       "      <td>0.00</td>\n",
       "    </tr>\n",
       "    <tr>\n",
       "      <th>3</th>\n",
       "      <td>2020-01-08</td>\n",
       "      <td>adgroup 4</td>\n",
       "      <td>5</td>\n",
       "      <td>4</td>\n",
       "      <td>0.08</td>\n",
       "      <td>0</td>\n",
       "      <td>0.00</td>\n",
       "    </tr>\n",
       "    <tr>\n",
       "      <th>4</th>\n",
       "      <td>2020-01-08</td>\n",
       "      <td>adgroup 1</td>\n",
       "      <td>247</td>\n",
       "      <td>126</td>\n",
       "      <td>1.29</td>\n",
       "      <td>4</td>\n",
       "      <td>925.71</td>\n",
       "    </tr>\n",
       "  </tbody>\n",
       "</table>\n",
       "</div>"
      ],
      "text/plain": [
       "        date    adgroup  impressions  clicks  cost  conversions  revenue\n",
       "0 2020-01-08  adgroup 1           24       6  0.08            0     0.00\n",
       "1 2020-01-08  adgroup 2            1       0  0.00            0     0.00\n",
       "2 2020-01-08  adgroup 3           13       4  0.04            0     0.00\n",
       "3 2020-01-08  adgroup 4            5       4  0.08            0     0.00\n",
       "4 2020-01-08  adgroup 1          247     126  1.29            4   925.71"
      ]
     },
     "execution_count": 8,
     "metadata": {},
     "output_type": "execute_result"
    }
   ],
   "source": [
    "df['date'] = pd.to_datetime(df.date)\n",
    "df.head()"
   ]
  },
  {
   "cell_type": "code",
   "execution_count": 9,
   "id": "3062a7a6",
   "metadata": {},
   "outputs": [
    {
     "data": {
      "text/plain": [
       "date           datetime64[ns]\n",
       "adgroup                object\n",
       "impressions             int64\n",
       "clicks                  int64\n",
       "cost                  float64\n",
       "conversions             int64\n",
       "revenue               float64\n",
       "dtype: object"
      ]
     },
     "execution_count": 9,
     "metadata": {},
     "output_type": "execute_result"
    }
   ],
   "source": [
    "df.dtypes"
   ]
  },
  {
   "cell_type": "code",
   "execution_count": 10,
   "id": "6c0c20d0",
   "metadata": {},
   "outputs": [
    {
     "data": {
      "text/html": [
       "<div>\n",
       "<style scoped>\n",
       "    .dataframe tbody tr th:only-of-type {\n",
       "        vertical-align: middle;\n",
       "    }\n",
       "\n",
       "    .dataframe tbody tr th {\n",
       "        vertical-align: top;\n",
       "    }\n",
       "\n",
       "    .dataframe thead th {\n",
       "        text-align: right;\n",
       "    }\n",
       "</style>\n",
       "<table border=\"1\" class=\"dataframe\">\n",
       "  <thead>\n",
       "    <tr style=\"text-align: right;\">\n",
       "      <th></th>\n",
       "      <th>impressions</th>\n",
       "      <th>clicks</th>\n",
       "      <th>cost</th>\n",
       "      <th>conversions</th>\n",
       "      <th>revenue</th>\n",
       "    </tr>\n",
       "  </thead>\n",
       "  <tbody>\n",
       "    <tr>\n",
       "      <th>impressions</th>\n",
       "      <td>1.000000</td>\n",
       "      <td>0.987514</td>\n",
       "      <td>0.682811</td>\n",
       "      <td>0.822149</td>\n",
       "      <td>0.759671</td>\n",
       "    </tr>\n",
       "    <tr>\n",
       "      <th>clicks</th>\n",
       "      <td>0.987514</td>\n",
       "      <td>1.000000</td>\n",
       "      <td>0.719925</td>\n",
       "      <td>0.856941</td>\n",
       "      <td>0.798282</td>\n",
       "    </tr>\n",
       "    <tr>\n",
       "      <th>cost</th>\n",
       "      <td>0.682811</td>\n",
       "      <td>0.719925</td>\n",
       "      <td>1.000000</td>\n",
       "      <td>0.672202</td>\n",
       "      <td>0.581662</td>\n",
       "    </tr>\n",
       "    <tr>\n",
       "      <th>conversions</th>\n",
       "      <td>0.822149</td>\n",
       "      <td>0.856941</td>\n",
       "      <td>0.672202</td>\n",
       "      <td>1.000000</td>\n",
       "      <td>0.964096</td>\n",
       "    </tr>\n",
       "    <tr>\n",
       "      <th>revenue</th>\n",
       "      <td>0.759671</td>\n",
       "      <td>0.798282</td>\n",
       "      <td>0.581662</td>\n",
       "      <td>0.964096</td>\n",
       "      <td>1.000000</td>\n",
       "    </tr>\n",
       "  </tbody>\n",
       "</table>\n",
       "</div>"
      ],
      "text/plain": [
       "             impressions    clicks      cost  conversions   revenue\n",
       "impressions     1.000000  0.987514  0.682811     0.822149  0.759671\n",
       "clicks          0.987514  1.000000  0.719925     0.856941  0.798282\n",
       "cost            0.682811  0.719925  1.000000     0.672202  0.581662\n",
       "conversions     0.822149  0.856941  0.672202     1.000000  0.964096\n",
       "revenue         0.759671  0.798282  0.581662     0.964096  1.000000"
      ]
     },
     "execution_count": 10,
     "metadata": {},
     "output_type": "execute_result"
    }
   ],
   "source": [
    "df.corr().T"
   ]
  },
  {
   "cell_type": "code",
   "execution_count": 11,
   "id": "bc48bb18",
   "metadata": {},
   "outputs": [
    {
     "data": {
      "text/html": [
       "<div>\n",
       "<style scoped>\n",
       "    .dataframe tbody tr th:only-of-type {\n",
       "        vertical-align: middle;\n",
       "    }\n",
       "\n",
       "    .dataframe tbody tr th {\n",
       "        vertical-align: top;\n",
       "    }\n",
       "\n",
       "    .dataframe thead th {\n",
       "        text-align: right;\n",
       "    }\n",
       "</style>\n",
       "<table border=\"1\" class=\"dataframe\">\n",
       "  <thead>\n",
       "    <tr style=\"text-align: right;\">\n",
       "      <th></th>\n",
       "      <th>date</th>\n",
       "      <th>adgroup 2</th>\n",
       "      <th>adgroup 3</th>\n",
       "      <th>adgroup 4</th>\n",
       "      <th>impressions</th>\n",
       "      <th>clicks</th>\n",
       "      <th>cost</th>\n",
       "      <th>conversions</th>\n",
       "      <th>revenue</th>\n",
       "    </tr>\n",
       "  </thead>\n",
       "  <tbody>\n",
       "    <tr>\n",
       "      <th>0</th>\n",
       "      <td>2020-01-08</td>\n",
       "      <td>0</td>\n",
       "      <td>0</td>\n",
       "      <td>0</td>\n",
       "      <td>24</td>\n",
       "      <td>6</td>\n",
       "      <td>0.08</td>\n",
       "      <td>0</td>\n",
       "      <td>0.00</td>\n",
       "    </tr>\n",
       "    <tr>\n",
       "      <th>1</th>\n",
       "      <td>2020-01-08</td>\n",
       "      <td>1</td>\n",
       "      <td>0</td>\n",
       "      <td>0</td>\n",
       "      <td>1</td>\n",
       "      <td>0</td>\n",
       "      <td>0.00</td>\n",
       "      <td>0</td>\n",
       "      <td>0.00</td>\n",
       "    </tr>\n",
       "    <tr>\n",
       "      <th>2</th>\n",
       "      <td>2020-01-08</td>\n",
       "      <td>0</td>\n",
       "      <td>1</td>\n",
       "      <td>0</td>\n",
       "      <td>13</td>\n",
       "      <td>4</td>\n",
       "      <td>0.04</td>\n",
       "      <td>0</td>\n",
       "      <td>0.00</td>\n",
       "    </tr>\n",
       "    <tr>\n",
       "      <th>3</th>\n",
       "      <td>2020-01-08</td>\n",
       "      <td>0</td>\n",
       "      <td>0</td>\n",
       "      <td>1</td>\n",
       "      <td>5</td>\n",
       "      <td>4</td>\n",
       "      <td>0.08</td>\n",
       "      <td>0</td>\n",
       "      <td>0.00</td>\n",
       "    </tr>\n",
       "    <tr>\n",
       "      <th>4</th>\n",
       "      <td>2020-01-08</td>\n",
       "      <td>0</td>\n",
       "      <td>0</td>\n",
       "      <td>0</td>\n",
       "      <td>247</td>\n",
       "      <td>126</td>\n",
       "      <td>1.29</td>\n",
       "      <td>4</td>\n",
       "      <td>925.71</td>\n",
       "    </tr>\n",
       "  </tbody>\n",
       "</table>\n",
       "</div>"
      ],
      "text/plain": [
       "        date  adgroup 2  adgroup 3  adgroup 4  impressions  clicks  cost  \\\n",
       "0 2020-01-08          0          0          0           24       6  0.08   \n",
       "1 2020-01-08          1          0          0            1       0  0.00   \n",
       "2 2020-01-08          0          1          0           13       4  0.04   \n",
       "3 2020-01-08          0          0          1            5       4  0.08   \n",
       "4 2020-01-08          0          0          0          247     126  1.29   \n",
       "\n",
       "   conversions  revenue  \n",
       "0            0     0.00  \n",
       "1            0     0.00  \n",
       "2            0     0.00  \n",
       "3            0     0.00  \n",
       "4            4   925.71  "
      ]
     },
     "execution_count": 11,
     "metadata": {},
     "output_type": "execute_result"
    }
   ],
   "source": [
    "date = pd.DataFrame(df.date)\n",
    "temp = pd.get_dummies(df.adgroup,drop_first=True)\n",
    "temp = pd.concat([date,temp],axis=1)\n",
    "df.drop(['date','adgroup'],axis=1,inplace=True)\n",
    "df = pd.concat([temp,df],axis=1)\n",
    "df.head()"
   ]
  },
  {
   "cell_type": "code",
   "execution_count": 12,
   "id": "65f493db",
   "metadata": {},
   "outputs": [
    {
     "data": {
      "text/html": [
       "<div>\n",
       "<style scoped>\n",
       "    .dataframe tbody tr th:only-of-type {\n",
       "        vertical-align: middle;\n",
       "    }\n",
       "\n",
       "    .dataframe tbody tr th {\n",
       "        vertical-align: top;\n",
       "    }\n",
       "\n",
       "    .dataframe thead th {\n",
       "        text-align: right;\n",
       "    }\n",
       "</style>\n",
       "<table border=\"1\" class=\"dataframe\">\n",
       "  <thead>\n",
       "    <tr style=\"text-align: right;\">\n",
       "      <th></th>\n",
       "      <th>date</th>\n",
       "      <th>adgroup 2</th>\n",
       "      <th>adgroup 3</th>\n",
       "      <th>adgroup 4</th>\n",
       "      <th>impressions</th>\n",
       "      <th>clicks</th>\n",
       "      <th>cost</th>\n",
       "      <th>conversions</th>\n",
       "      <th>revenue</th>\n",
       "      <th>CTR</th>\n",
       "      <th>CPC</th>\n",
       "    </tr>\n",
       "  </thead>\n",
       "  <tbody>\n",
       "    <tr>\n",
       "      <th>0</th>\n",
       "      <td>2020-01-08</td>\n",
       "      <td>0</td>\n",
       "      <td>0</td>\n",
       "      <td>0</td>\n",
       "      <td>24</td>\n",
       "      <td>6</td>\n",
       "      <td>0.08</td>\n",
       "      <td>0</td>\n",
       "      <td>0.00</td>\n",
       "      <td>0.250000</td>\n",
       "      <td>0.013333</td>\n",
       "    </tr>\n",
       "    <tr>\n",
       "      <th>1</th>\n",
       "      <td>2020-01-08</td>\n",
       "      <td>1</td>\n",
       "      <td>0</td>\n",
       "      <td>0</td>\n",
       "      <td>1</td>\n",
       "      <td>0</td>\n",
       "      <td>0.00</td>\n",
       "      <td>0</td>\n",
       "      <td>0.00</td>\n",
       "      <td>0.000000</td>\n",
       "      <td>NaN</td>\n",
       "    </tr>\n",
       "    <tr>\n",
       "      <th>2</th>\n",
       "      <td>2020-01-08</td>\n",
       "      <td>0</td>\n",
       "      <td>1</td>\n",
       "      <td>0</td>\n",
       "      <td>13</td>\n",
       "      <td>4</td>\n",
       "      <td>0.04</td>\n",
       "      <td>0</td>\n",
       "      <td>0.00</td>\n",
       "      <td>0.307692</td>\n",
       "      <td>0.010000</td>\n",
       "    </tr>\n",
       "    <tr>\n",
       "      <th>3</th>\n",
       "      <td>2020-01-08</td>\n",
       "      <td>0</td>\n",
       "      <td>0</td>\n",
       "      <td>1</td>\n",
       "      <td>5</td>\n",
       "      <td>4</td>\n",
       "      <td>0.08</td>\n",
       "      <td>0</td>\n",
       "      <td>0.00</td>\n",
       "      <td>0.800000</td>\n",
       "      <td>0.020000</td>\n",
       "    </tr>\n",
       "    <tr>\n",
       "      <th>4</th>\n",
       "      <td>2020-01-08</td>\n",
       "      <td>0</td>\n",
       "      <td>0</td>\n",
       "      <td>0</td>\n",
       "      <td>247</td>\n",
       "      <td>126</td>\n",
       "      <td>1.29</td>\n",
       "      <td>4</td>\n",
       "      <td>925.71</td>\n",
       "      <td>0.510121</td>\n",
       "      <td>0.010238</td>\n",
       "    </tr>\n",
       "  </tbody>\n",
       "</table>\n",
       "</div>"
      ],
      "text/plain": [
       "        date  adgroup 2  adgroup 3  adgroup 4  impressions  clicks  cost  \\\n",
       "0 2020-01-08          0          0          0           24       6  0.08   \n",
       "1 2020-01-08          1          0          0            1       0  0.00   \n",
       "2 2020-01-08          0          1          0           13       4  0.04   \n",
       "3 2020-01-08          0          0          1            5       4  0.08   \n",
       "4 2020-01-08          0          0          0          247     126  1.29   \n",
       "\n",
       "   conversions  revenue       CTR       CPC  \n",
       "0            0     0.00  0.250000  0.013333  \n",
       "1            0     0.00  0.000000       NaN  \n",
       "2            0     0.00  0.307692  0.010000  \n",
       "3            0     0.00  0.800000  0.020000  \n",
       "4            4   925.71  0.510121  0.010238  "
      ]
     },
     "execution_count": 12,
     "metadata": {},
     "output_type": "execute_result"
    }
   ],
   "source": [
    "df['CTR'] = df['clicks'].astype(float)/df['impressions'].astype(float)\n",
    "df['CPC'] = df['cost'].astype(float)/df['clicks'].astype(float)\n",
    "df.head()"
   ]
  },
  {
   "cell_type": "code",
   "execution_count": 13,
   "id": "4c365411",
   "metadata": {},
   "outputs": [
    {
     "data": {
      "text/plain": [
       "date             0\n",
       "adgroup 2        0\n",
       "adgroup 3        0\n",
       "adgroup 4        0\n",
       "impressions      0\n",
       "clicks           0\n",
       "cost             0\n",
       "conversions      0\n",
       "revenue          0\n",
       "CTR              0\n",
       "CPC            444\n",
       "dtype: int64"
      ]
     },
     "execution_count": 13,
     "metadata": {},
     "output_type": "execute_result"
    }
   ],
   "source": [
    "df.isna().sum()"
   ]
  },
  {
   "cell_type": "code",
   "execution_count": 14,
   "id": "d15aeef7",
   "metadata": {},
   "outputs": [],
   "source": [
    "df.CPC = df.CPC.fillna(0)"
   ]
  },
  {
   "cell_type": "code",
   "execution_count": 15,
   "id": "b4de6252",
   "metadata": {},
   "outputs": [
    {
     "data": {
      "text/plain": [
       "date           0\n",
       "adgroup 2      0\n",
       "adgroup 3      0\n",
       "adgroup 4      0\n",
       "impressions    0\n",
       "clicks         0\n",
       "cost           0\n",
       "conversions    0\n",
       "revenue        0\n",
       "CTR            0\n",
       "CPC            0\n",
       "dtype: int64"
      ]
     },
     "execution_count": 15,
     "metadata": {},
     "output_type": "execute_result"
    }
   ],
   "source": [
    "df.isna().sum()"
   ]
  },
  {
   "cell_type": "code",
   "execution_count": 16,
   "id": "c1fcde69",
   "metadata": {},
   "outputs": [
    {
     "data": {
      "text/html": [
       "<div>\n",
       "<style scoped>\n",
       "    .dataframe tbody tr th:only-of-type {\n",
       "        vertical-align: middle;\n",
       "    }\n",
       "\n",
       "    .dataframe tbody tr th {\n",
       "        vertical-align: top;\n",
       "    }\n",
       "\n",
       "    .dataframe thead th {\n",
       "        text-align: right;\n",
       "    }\n",
       "</style>\n",
       "<table border=\"1\" class=\"dataframe\">\n",
       "  <thead>\n",
       "    <tr style=\"text-align: right;\">\n",
       "      <th></th>\n",
       "      <th>date</th>\n",
       "      <th>adgroup 2</th>\n",
       "      <th>adgroup 3</th>\n",
       "      <th>adgroup 4</th>\n",
       "      <th>impressions</th>\n",
       "      <th>clicks</th>\n",
       "      <th>cost</th>\n",
       "      <th>conversions</th>\n",
       "      <th>revenue</th>\n",
       "      <th>CTR</th>\n",
       "      <th>CPC</th>\n",
       "    </tr>\n",
       "  </thead>\n",
       "  <tbody>\n",
       "    <tr>\n",
       "      <th>0</th>\n",
       "      <td>2020-01-08</td>\n",
       "      <td>0</td>\n",
       "      <td>0</td>\n",
       "      <td>0</td>\n",
       "      <td>24</td>\n",
       "      <td>6</td>\n",
       "      <td>0.08</td>\n",
       "      <td>0</td>\n",
       "      <td>0.00</td>\n",
       "      <td>0.250000</td>\n",
       "      <td>0.013333</td>\n",
       "    </tr>\n",
       "    <tr>\n",
       "      <th>1</th>\n",
       "      <td>2020-01-08</td>\n",
       "      <td>1</td>\n",
       "      <td>0</td>\n",
       "      <td>0</td>\n",
       "      <td>1</td>\n",
       "      <td>0</td>\n",
       "      <td>0.00</td>\n",
       "      <td>0</td>\n",
       "      <td>0.00</td>\n",
       "      <td>0.000000</td>\n",
       "      <td>0.000000</td>\n",
       "    </tr>\n",
       "    <tr>\n",
       "      <th>2</th>\n",
       "      <td>2020-01-08</td>\n",
       "      <td>0</td>\n",
       "      <td>1</td>\n",
       "      <td>0</td>\n",
       "      <td>13</td>\n",
       "      <td>4</td>\n",
       "      <td>0.04</td>\n",
       "      <td>0</td>\n",
       "      <td>0.00</td>\n",
       "      <td>0.307692</td>\n",
       "      <td>0.010000</td>\n",
       "    </tr>\n",
       "    <tr>\n",
       "      <th>3</th>\n",
       "      <td>2020-01-08</td>\n",
       "      <td>0</td>\n",
       "      <td>0</td>\n",
       "      <td>1</td>\n",
       "      <td>5</td>\n",
       "      <td>4</td>\n",
       "      <td>0.08</td>\n",
       "      <td>0</td>\n",
       "      <td>0.00</td>\n",
       "      <td>0.800000</td>\n",
       "      <td>0.020000</td>\n",
       "    </tr>\n",
       "    <tr>\n",
       "      <th>4</th>\n",
       "      <td>2020-01-08</td>\n",
       "      <td>0</td>\n",
       "      <td>0</td>\n",
       "      <td>0</td>\n",
       "      <td>247</td>\n",
       "      <td>126</td>\n",
       "      <td>1.29</td>\n",
       "      <td>4</td>\n",
       "      <td>925.71</td>\n",
       "      <td>0.510121</td>\n",
       "      <td>0.010238</td>\n",
       "    </tr>\n",
       "    <tr>\n",
       "      <th>5</th>\n",
       "      <td>2020-01-08</td>\n",
       "      <td>1</td>\n",
       "      <td>0</td>\n",
       "      <td>0</td>\n",
       "      <td>7</td>\n",
       "      <td>2</td>\n",
       "      <td>0.04</td>\n",
       "      <td>0</td>\n",
       "      <td>0.00</td>\n",
       "      <td>0.285714</td>\n",
       "      <td>0.020000</td>\n",
       "    </tr>\n",
       "    <tr>\n",
       "      <th>6</th>\n",
       "      <td>2020-01-08</td>\n",
       "      <td>0</td>\n",
       "      <td>0</td>\n",
       "      <td>1</td>\n",
       "      <td>6</td>\n",
       "      <td>3</td>\n",
       "      <td>0.05</td>\n",
       "      <td>0</td>\n",
       "      <td>0.00</td>\n",
       "      <td>0.500000</td>\n",
       "      <td>0.016667</td>\n",
       "    </tr>\n",
       "    <tr>\n",
       "      <th>7</th>\n",
       "      <td>2020-01-08</td>\n",
       "      <td>0</td>\n",
       "      <td>0</td>\n",
       "      <td>0</td>\n",
       "      <td>129</td>\n",
       "      <td>52</td>\n",
       "      <td>0.58</td>\n",
       "      <td>0</td>\n",
       "      <td>0.00</td>\n",
       "      <td>0.403101</td>\n",
       "      <td>0.011154</td>\n",
       "    </tr>\n",
       "    <tr>\n",
       "      <th>8</th>\n",
       "      <td>2020-01-08</td>\n",
       "      <td>0</td>\n",
       "      <td>1</td>\n",
       "      <td>0</td>\n",
       "      <td>104</td>\n",
       "      <td>56</td>\n",
       "      <td>0.56</td>\n",
       "      <td>0</td>\n",
       "      <td>0.00</td>\n",
       "      <td>0.538462</td>\n",
       "      <td>0.010000</td>\n",
       "    </tr>\n",
       "    <tr>\n",
       "      <th>9</th>\n",
       "      <td>2020-01-08</td>\n",
       "      <td>0</td>\n",
       "      <td>0</td>\n",
       "      <td>1</td>\n",
       "      <td>6</td>\n",
       "      <td>5</td>\n",
       "      <td>0.05</td>\n",
       "      <td>0</td>\n",
       "      <td>0.00</td>\n",
       "      <td>0.833333</td>\n",
       "      <td>0.010000</td>\n",
       "    </tr>\n",
       "  </tbody>\n",
       "</table>\n",
       "</div>"
      ],
      "text/plain": [
       "        date  adgroup 2  adgroup 3  adgroup 4  impressions  clicks  cost  \\\n",
       "0 2020-01-08          0          0          0           24       6  0.08   \n",
       "1 2020-01-08          1          0          0            1       0  0.00   \n",
       "2 2020-01-08          0          1          0           13       4  0.04   \n",
       "3 2020-01-08          0          0          1            5       4  0.08   \n",
       "4 2020-01-08          0          0          0          247     126  1.29   \n",
       "5 2020-01-08          1          0          0            7       2  0.04   \n",
       "6 2020-01-08          0          0          1            6       3  0.05   \n",
       "7 2020-01-08          0          0          0          129      52  0.58   \n",
       "8 2020-01-08          0          1          0          104      56  0.56   \n",
       "9 2020-01-08          0          0          1            6       5  0.05   \n",
       "\n",
       "   conversions  revenue       CTR       CPC  \n",
       "0            0     0.00  0.250000  0.013333  \n",
       "1            0     0.00  0.000000  0.000000  \n",
       "2            0     0.00  0.307692  0.010000  \n",
       "3            0     0.00  0.800000  0.020000  \n",
       "4            4   925.71  0.510121  0.010238  \n",
       "5            0     0.00  0.285714  0.020000  \n",
       "6            0     0.00  0.500000  0.016667  \n",
       "7            0     0.00  0.403101  0.011154  \n",
       "8            0     0.00  0.538462  0.010000  \n",
       "9            0     0.00  0.833333  0.010000  "
      ]
     },
     "execution_count": 16,
     "metadata": {},
     "output_type": "execute_result"
    }
   ],
   "source": [
    "df.head(10)"
   ]
  },
  {
   "cell_type": "code",
   "execution_count": 17,
   "id": "b988ebc1",
   "metadata": {},
   "outputs": [
    {
     "data": {
      "text/html": [
       "<div>\n",
       "<style scoped>\n",
       "    .dataframe tbody tr th:only-of-type {\n",
       "        vertical-align: middle;\n",
       "    }\n",
       "\n",
       "    .dataframe tbody tr th {\n",
       "        vertical-align: top;\n",
       "    }\n",
       "\n",
       "    .dataframe thead th {\n",
       "        text-align: right;\n",
       "    }\n",
       "</style>\n",
       "<table border=\"1\" class=\"dataframe\">\n",
       "  <thead>\n",
       "    <tr style=\"text-align: right;\">\n",
       "      <th></th>\n",
       "      <th>day</th>\n",
       "      <th>month</th>\n",
       "      <th>adgroup 2</th>\n",
       "      <th>adgroup 3</th>\n",
       "      <th>adgroup 4</th>\n",
       "      <th>impressions</th>\n",
       "      <th>clicks</th>\n",
       "      <th>cost</th>\n",
       "      <th>conversions</th>\n",
       "      <th>revenue</th>\n",
       "      <th>CTR</th>\n",
       "      <th>CPC</th>\n",
       "    </tr>\n",
       "  </thead>\n",
       "  <tbody>\n",
       "    <tr>\n",
       "      <th>0</th>\n",
       "      <td>8</td>\n",
       "      <td>1</td>\n",
       "      <td>0</td>\n",
       "      <td>0</td>\n",
       "      <td>0</td>\n",
       "      <td>24</td>\n",
       "      <td>6</td>\n",
       "      <td>0.08</td>\n",
       "      <td>0</td>\n",
       "      <td>0.00</td>\n",
       "      <td>0.250000</td>\n",
       "      <td>0.013333</td>\n",
       "    </tr>\n",
       "    <tr>\n",
       "      <th>1</th>\n",
       "      <td>8</td>\n",
       "      <td>1</td>\n",
       "      <td>1</td>\n",
       "      <td>0</td>\n",
       "      <td>0</td>\n",
       "      <td>1</td>\n",
       "      <td>0</td>\n",
       "      <td>0.00</td>\n",
       "      <td>0</td>\n",
       "      <td>0.00</td>\n",
       "      <td>0.000000</td>\n",
       "      <td>0.000000</td>\n",
       "    </tr>\n",
       "    <tr>\n",
       "      <th>2</th>\n",
       "      <td>8</td>\n",
       "      <td>1</td>\n",
       "      <td>0</td>\n",
       "      <td>1</td>\n",
       "      <td>0</td>\n",
       "      <td>13</td>\n",
       "      <td>4</td>\n",
       "      <td>0.04</td>\n",
       "      <td>0</td>\n",
       "      <td>0.00</td>\n",
       "      <td>0.307692</td>\n",
       "      <td>0.010000</td>\n",
       "    </tr>\n",
       "    <tr>\n",
       "      <th>3</th>\n",
       "      <td>8</td>\n",
       "      <td>1</td>\n",
       "      <td>0</td>\n",
       "      <td>0</td>\n",
       "      <td>1</td>\n",
       "      <td>5</td>\n",
       "      <td>4</td>\n",
       "      <td>0.08</td>\n",
       "      <td>0</td>\n",
       "      <td>0.00</td>\n",
       "      <td>0.800000</td>\n",
       "      <td>0.020000</td>\n",
       "    </tr>\n",
       "    <tr>\n",
       "      <th>4</th>\n",
       "      <td>8</td>\n",
       "      <td>1</td>\n",
       "      <td>0</td>\n",
       "      <td>0</td>\n",
       "      <td>0</td>\n",
       "      <td>247</td>\n",
       "      <td>126</td>\n",
       "      <td>1.29</td>\n",
       "      <td>4</td>\n",
       "      <td>925.71</td>\n",
       "      <td>0.510121</td>\n",
       "      <td>0.010238</td>\n",
       "    </tr>\n",
       "  </tbody>\n",
       "</table>\n",
       "</div>"
      ],
      "text/plain": [
       "   day  month  adgroup 2  adgroup 3  adgroup 4  impressions  clicks  cost  \\\n",
       "0    8      1          0          0          0           24       6  0.08   \n",
       "1    8      1          1          0          0            1       0  0.00   \n",
       "2    8      1          0          1          0           13       4  0.04   \n",
       "3    8      1          0          0          1            5       4  0.08   \n",
       "4    8      1          0          0          0          247     126  1.29   \n",
       "\n",
       "   conversions  revenue       CTR       CPC  \n",
       "0            0     0.00  0.250000  0.013333  \n",
       "1            0     0.00  0.000000  0.000000  \n",
       "2            0     0.00  0.307692  0.010000  \n",
       "3            0     0.00  0.800000  0.020000  \n",
       "4            4   925.71  0.510121  0.010238  "
      ]
     },
     "execution_count": 17,
     "metadata": {},
     "output_type": "execute_result"
    }
   ],
   "source": [
    "day = df.date.dt.day\n",
    "day.name = 'day'\n",
    "month = df.date.dt.month\n",
    "month.name = 'month'\n",
    "df = pd.concat([day,month,df],axis=1)\n",
    "df.drop(['date'],axis=1,inplace=True)\n",
    "df.head()"
   ]
  },
  {
   "cell_type": "code",
   "execution_count": 18,
   "id": "74d10303",
   "metadata": {},
   "outputs": [
    {
     "data": {
      "text/html": [
       "<div>\n",
       "<style scoped>\n",
       "    .dataframe tbody tr th:only-of-type {\n",
       "        vertical-align: middle;\n",
       "    }\n",
       "\n",
       "    .dataframe tbody tr th {\n",
       "        vertical-align: top;\n",
       "    }\n",
       "\n",
       "    .dataframe thead th {\n",
       "        text-align: right;\n",
       "    }\n",
       "</style>\n",
       "<table border=\"1\" class=\"dataframe\">\n",
       "  <thead>\n",
       "    <tr style=\"text-align: right;\">\n",
       "      <th></th>\n",
       "      <th>day</th>\n",
       "      <th>month</th>\n",
       "      <th>adgroup 2</th>\n",
       "      <th>adgroup 3</th>\n",
       "      <th>adgroup 4</th>\n",
       "      <th>impressions</th>\n",
       "      <th>clicks</th>\n",
       "      <th>cost</th>\n",
       "      <th>conversions</th>\n",
       "      <th>CTR</th>\n",
       "      <th>CPC</th>\n",
       "      <th>revenue</th>\n",
       "    </tr>\n",
       "  </thead>\n",
       "  <tbody>\n",
       "    <tr>\n",
       "      <th>0</th>\n",
       "      <td>8</td>\n",
       "      <td>1</td>\n",
       "      <td>0</td>\n",
       "      <td>0</td>\n",
       "      <td>0</td>\n",
       "      <td>24</td>\n",
       "      <td>6</td>\n",
       "      <td>0.08</td>\n",
       "      <td>0</td>\n",
       "      <td>0.250000</td>\n",
       "      <td>0.013333</td>\n",
       "      <td>0.00</td>\n",
       "    </tr>\n",
       "    <tr>\n",
       "      <th>1</th>\n",
       "      <td>8</td>\n",
       "      <td>1</td>\n",
       "      <td>1</td>\n",
       "      <td>0</td>\n",
       "      <td>0</td>\n",
       "      <td>1</td>\n",
       "      <td>0</td>\n",
       "      <td>0.00</td>\n",
       "      <td>0</td>\n",
       "      <td>0.000000</td>\n",
       "      <td>0.000000</td>\n",
       "      <td>0.00</td>\n",
       "    </tr>\n",
       "    <tr>\n",
       "      <th>2</th>\n",
       "      <td>8</td>\n",
       "      <td>1</td>\n",
       "      <td>0</td>\n",
       "      <td>1</td>\n",
       "      <td>0</td>\n",
       "      <td>13</td>\n",
       "      <td>4</td>\n",
       "      <td>0.04</td>\n",
       "      <td>0</td>\n",
       "      <td>0.307692</td>\n",
       "      <td>0.010000</td>\n",
       "      <td>0.00</td>\n",
       "    </tr>\n",
       "    <tr>\n",
       "      <th>3</th>\n",
       "      <td>8</td>\n",
       "      <td>1</td>\n",
       "      <td>0</td>\n",
       "      <td>0</td>\n",
       "      <td>1</td>\n",
       "      <td>5</td>\n",
       "      <td>4</td>\n",
       "      <td>0.08</td>\n",
       "      <td>0</td>\n",
       "      <td>0.800000</td>\n",
       "      <td>0.020000</td>\n",
       "      <td>0.00</td>\n",
       "    </tr>\n",
       "    <tr>\n",
       "      <th>4</th>\n",
       "      <td>8</td>\n",
       "      <td>1</td>\n",
       "      <td>0</td>\n",
       "      <td>0</td>\n",
       "      <td>0</td>\n",
       "      <td>247</td>\n",
       "      <td>126</td>\n",
       "      <td>1.29</td>\n",
       "      <td>4</td>\n",
       "      <td>0.510121</td>\n",
       "      <td>0.010238</td>\n",
       "      <td>925.71</td>\n",
       "    </tr>\n",
       "  </tbody>\n",
       "</table>\n",
       "</div>"
      ],
      "text/plain": [
       "   day  month  adgroup 2  adgroup 3  adgroup 4  impressions  clicks  cost  \\\n",
       "0    8      1          0          0          0           24       6  0.08   \n",
       "1    8      1          1          0          0            1       0  0.00   \n",
       "2    8      1          0          1          0           13       4  0.04   \n",
       "3    8      1          0          0          1            5       4  0.08   \n",
       "4    8      1          0          0          0          247     126  1.29   \n",
       "\n",
       "   conversions       CTR       CPC  revenue  \n",
       "0            0  0.250000  0.013333     0.00  \n",
       "1            0  0.000000  0.000000     0.00  \n",
       "2            0  0.307692  0.010000     0.00  \n",
       "3            0  0.800000  0.020000     0.00  \n",
       "4            4  0.510121  0.010238   925.71  "
      ]
     },
     "execution_count": 18,
     "metadata": {},
     "output_type": "execute_result"
    }
   ],
   "source": [
    "temp = df.revenue\n",
    "df.drop(['revenue'],axis=1,inplace=True)\n",
    "df = pd.concat([df,temp],axis=1)\n",
    "df.head()"
   ]
  },
  {
   "cell_type": "code",
   "execution_count": 19,
   "id": "195ee768",
   "metadata": {},
   "outputs": [],
   "source": [
    "df['day_cos'] = np.cos(2*np.pi*df.day/31.0)\n",
    "df['day_sin'] = np.sin(2*np.pi*df.day/31.0)\n",
    "df.drop(['day','month'],axis=1,inplace=True)"
   ]
  },
  {
   "cell_type": "code",
   "execution_count": 20,
   "id": "62d9b5f3",
   "metadata": {},
   "outputs": [
    {
     "data": {
      "image/png": "[encoded data removed]",
      "text/plain": [
       "<Figure size 1080x720 with 2 Axes>"
      ]
     },
     "metadata": {
      "needs_background": "light"
     },
     "output_type": "display_data"
    }
   ],
   "source": [
    "cm = df.corr()\n",
    "plt.figure(figsize=(15,10))\n",
    "sns.heatmap(data=cm,cbar=True,cmap='mako_r',linewidths=0.5,annot=True)\n",
    "plt.show()"
   ]
  },
  {
   "cell_type": "code",
   "execution_count": 21,
   "id": "5c88dc3a",
   "metadata": {},
   "outputs": [
    {
     "data": {
      "image/png": "[encoded data removed]",
      "text/plain": [
       "<Figure size 1080x720 with 1 Axes>"
      ]
     },
     "metadata": {
      "needs_background": "light"
     },
     "output_type": "display_data"
    }
   ],
   "source": [
    "plt.figure(figsize=(15,10))\n",
    "sns.boxplot(data=df,orient='h',palette='Set2')\n",
    "plt.show()"
   ]
  },
  {
   "cell_type": "code",
   "execution_count": 22,
   "id": "902b8f79",
   "metadata": {},
   "outputs": [],
   "source": [
    "def plot_helper(col, data):\n",
    "    print('\\t',col,'\\n','*'*30)\n",
    "    print(data[col].describe(percentiles=[0.25,0.5,0.75,0.9,0.95,0.97,0.99,0.995]))\n",
    "    \n",
    "    #Plots\n",
    "    plt.figure(figsize=(15,8))\n",
    "    \n",
    "    #Boxplot for the column\n",
    "    plt.subplot(1,2,1)\n",
    "    sns.boxplot(data[col], color='cyan')\n",
    "    plt.title('Boxplot for '+col)\n",
    "    plt.xlabel(' ')\n",
    "    \n",
    "    #Distribution plot of the column\n",
    "    plt.subplot(1,2,2)\n",
    "    sns.distplot(data[col])\n",
    "    plt.title('Distribution plot for '+col)\n",
    "    plt.xlabel(' ')\n",
    "    \n",
    "    plt.show()"
   ]
  },
  {
   "cell_type": "code",
   "execution_count": 23,
   "id": "b9b0d246",
   "metadata": {},
   "outputs": [
    {
     "name": "stdout",
     "output_type": "stream",
     "text": [
      "\t clicks \n",
      " ******************************\n",
      "count    4571.000000\n",
      "mean       43.340844\n",
      "std       100.164913\n",
      "min         0.000000\n",
      "25%         2.000000\n",
      "50%         7.000000\n",
      "75%        38.000000\n",
      "90%       130.000000\n",
      "95%       216.500000\n",
      "97%       270.800000\n",
      "99%       391.800000\n",
      "99.5%     635.300000\n",
      "max      1771.000000\n",
      "Name: clicks, dtype: float64\n"
     ]
    },
    {
     "data": {
      "image/png": "[encoded data removed]",
      "text/plain": [
       "<Figure size 1080x576 with 2 Axes>"
      ]
     },
     "metadata": {
      "needs_background": "light"
     },
     "output_type": "display_data"
    }
   ],
   "source": [
    "plot_helper('clicks',df)"
   ]
  },
  {
   "cell_type": "code",
   "execution_count": 24,
   "id": "cbc4cddc",
   "metadata": {},
   "outputs": [],
   "source": [
    "df = df[~(df['clicks']>df['clicks'].quantile(0.995))]"
   ]
  },
  {
   "cell_type": "code",
   "execution_count": 25,
   "id": "cfb77586",
   "metadata": {},
   "outputs": [
    {
     "name": "stdout",
     "output_type": "stream",
     "text": [
      "\t clicks \n",
      " ******************************\n",
      "count    4548.000000\n",
      "mean       38.592348\n",
      "std        72.972982\n",
      "min         0.000000\n",
      "25%         2.000000\n",
      "50%         7.000000\n",
      "75%        36.000000\n",
      "90%       126.000000\n",
      "95%       203.000000\n",
      "97%       261.000000\n",
      "99%       328.530000\n",
      "99.5%     391.590000\n",
      "max       629.000000\n",
      "Name: clicks, dtype: float64\n"
     ]
    },
    {
     "data": {
      "image/png": "[encoded data removed]",
      "text/plain": [
       "<Figure size 1080x576 with 2 Axes>"
      ]
     },
     "metadata": {
      "needs_background": "light"
     },
     "output_type": "display_data"
    }
   ],
   "source": [
    "plot_helper('clicks',df)"
   ]
  },
  {
   "cell_type": "code",
   "execution_count": 26,
   "id": "4bd4c3ea",
   "metadata": {},
   "outputs": [],
   "source": [
    "df.clicks = np.log1p(df.clicks)"
   ]
  },
  {
   "cell_type": "code",
   "execution_count": 27,
   "id": "234cfedc",
   "metadata": {},
   "outputs": [
    {
     "name": "stdout",
     "output_type": "stream",
     "text": [
      "\t clicks \n",
      " ******************************\n",
      "count    4548.000000\n",
      "mean        2.385350\n",
      "std         1.610757\n",
      "min         0.000000\n",
      "25%         1.098612\n",
      "50%         2.079442\n",
      "75%         3.610918\n",
      "90%         4.844187\n",
      "95%         5.318120\n",
      "97%         5.568345\n",
      "99%         5.797666\n",
      "99.5%       5.972743\n",
      "max         6.445720\n",
      "Name: clicks, dtype: float64\n"
     ]
    },
    {
     "data": {
      "image/png": "[encoded data removed]",
      "text/plain": [
       "<Figure size 1080x576 with 2 Axes>"
      ]
     },
     "metadata": {
      "needs_background": "light"
     },
     "output_type": "display_data"
    }
   ],
   "source": [
    "plot_helper('clicks',df)"
   ]
  },
  {
   "cell_type": "code",
   "execution_count": 28,
   "id": "4cf896df",
   "metadata": {},
   "outputs": [
    {
     "name": "stdout",
     "output_type": "stream",
     "text": [
      "\t cost \n",
      " ******************************\n",
      "count    4548.000000\n",
      "mean        2.179903\n",
      "std         7.435178\n",
      "min         0.000000\n",
      "25%         0.040000\n",
      "50%         0.200000\n",
      "75%         1.330000\n",
      "90%         4.463000\n",
      "95%         9.742000\n",
      "97%        15.745900\n",
      "99%        34.999000\n",
      "99.5%      43.902000\n",
      "max       144.970000\n",
      "Name: cost, dtype: float64\n"
     ]
    },
    {
     "data": {
      "image/png": "[encoded data removed]",
      "text/plain": [
       "<Figure size 1080x576 with 2 Axes>"
      ]
     },
     "metadata": {
      "needs_background": "light"
     },
     "output_type": "display_data"
    }
   ],
   "source": [
    "plot_helper('cost',df)"
   ]
  },
  {
   "cell_type": "code",
   "execution_count": 29,
   "id": "5238989f",
   "metadata": {},
   "outputs": [
    {
     "name": "stdout",
     "output_type": "stream",
     "text": [
      "\t cost \n",
      " ******************************\n",
      "count    4525.000000\n",
      "mean        1.805114\n",
      "std         4.800726\n",
      "min         0.000000\n",
      "25%         0.040000\n",
      "50%         0.200000\n",
      "75%         1.290000\n",
      "90%         4.202000\n",
      "95%         8.728000\n",
      "97%        14.191200\n",
      "99%        27.748000\n",
      "99.5%      34.954000\n",
      "max        43.690000\n",
      "Name: cost, dtype: float64\n"
     ]
    },
    {
     "data": {
      "image/png": "[encoded data removed]",
      "text/plain": [
       "<Figure size 1080x576 with 2 Axes>"
      ]
     },
     "metadata": {
      "needs_background": "light"
     },
     "output_type": "display_data"
    }
   ],
   "source": [
    "df = df[~(df['cost']>df['cost'].quantile(0.995))]\n",
    "plot_helper('cost',df)"
   ]
  },
  {
   "cell_type": "code",
   "execution_count": 30,
   "id": "5660f631",
   "metadata": {},
   "outputs": [
    {
     "name": "stdout",
     "output_type": "stream",
     "text": [
      "\t cost \n",
      " ******************************\n",
      "count    4525.000000\n",
      "mean        0.561376\n",
      "std         0.767631\n",
      "min         0.000000\n",
      "25%         0.039221\n",
      "50%         0.182322\n",
      "75%         0.828552\n",
      "90%         1.649041\n",
      "95%         2.275008\n",
      "97%         2.720716\n",
      "99%         3.358558\n",
      "99.5%       3.582232\n",
      "max         3.799750\n",
      "Name: cost, dtype: float64\n"
     ]
    },
    {
     "data": {
      "image/png": "[encoded data removed]",
      "text/plain": [
       "<Figure size 1080x576 with 2 Axes>"
      ]
     },
     "metadata": {
      "needs_background": "light"
     },
     "output_type": "display_data"
    }
   ],
   "source": [
    "df.cost = np.log1p(df.cost)\n",
    "plot_helper('cost',df)"
   ]
  },
  {
   "cell_type": "code",
   "execution_count": 31,
   "id": "53635071",
   "metadata": {},
   "outputs": [
    {
     "name": "stdout",
     "output_type": "stream",
     "text": [
      "\t conversions \n",
      " ******************************\n",
      "count    4525.000000\n",
      "mean        0.990718\n",
      "std         2.687348\n",
      "min         0.000000\n",
      "25%         0.000000\n",
      "50%         0.000000\n",
      "75%         1.000000\n",
      "90%         3.000000\n",
      "95%         6.000000\n",
      "97%         7.000000\n",
      "99%        11.000000\n",
      "99.5%      18.000000\n",
      "max        47.000000\n",
      "Name: conversions, dtype: float64\n"
     ]
    },
    {
     "data": {
      "image/png": "[encoded data removed]",
      "text/plain": [
       "<Figure size 1080x576 with 2 Axes>"
      ]
     },
     "metadata": {
      "needs_background": "light"
     },
     "output_type": "display_data"
    }
   ],
   "source": [
    "plot_helper('conversions',df)"
   ]
  },
  {
   "cell_type": "code",
   "execution_count": 32,
   "id": "6584bcaa",
   "metadata": {},
   "outputs": [
    {
     "name": "stdout",
     "output_type": "stream",
     "text": [
      "\t conversions \n",
      " ******************************\n",
      "count    4504.000000\n",
      "mean        0.876554\n",
      "std         2.044115\n",
      "min         0.000000\n",
      "25%         0.000000\n",
      "50%         0.000000\n",
      "75%         1.000000\n",
      "90%         3.000000\n",
      "95%         5.000000\n",
      "97%         7.000000\n",
      "99%         9.000000\n",
      "99.5%      12.000000\n",
      "max        18.000000\n",
      "Name: conversions, dtype: float64\n"
     ]
    },
    {
     "data": {
      "image/png": "[encoded data removed]",
      "text/plain": [
       "<Figure size 1080x576 with 2 Axes>"
      ]
     },
     "metadata": {
      "needs_background": "light"
     },
     "output_type": "display_data"
    }
   ],
   "source": [
    "df = df[~(df['conversions']>df['conversions'].quantile(0.995))]\n",
    "plot_helper('conversions',df)"
   ]
  },
  {
   "cell_type": "code",
   "execution_count": 33,
   "id": "d4d0326c",
   "metadata": {},
   "outputs": [
    {
     "name": "stdout",
     "output_type": "stream",
     "text": [
      "\t conversions \n",
      " ******************************\n",
      "count    4504.000000\n",
      "mean        0.350023\n",
      "std         0.629963\n",
      "min         0.000000\n",
      "25%         0.000000\n",
      "50%         0.000000\n",
      "75%         0.693147\n",
      "90%         1.386294\n",
      "95%         1.791759\n",
      "97%         2.079442\n",
      "99%         2.302585\n",
      "99.5%       2.564949\n",
      "max         2.944439\n",
      "Name: conversions, dtype: float64\n"
     ]
    },
    {
     "data": {
      "image/png": "[encoded data removed]",
      "text/plain": [
       "<Figure size 1080x576 with 2 Axes>"
      ]
     },
     "metadata": {
      "needs_background": "light"
     },
     "output_type": "display_data"
    }
   ],
   "source": [
    "df.conversions = np.log1p(df.conversions)\n",
    "plot_helper('conversions',df)"
   ]
  },
  {
   "cell_type": "code",
   "execution_count": 34,
   "id": "f0665444",
   "metadata": {},
   "outputs": [
    {
     "name": "stdout",
     "output_type": "stream",
     "text": [
      "(4504, 12)\n"
     ]
    },
    {
     "data": {
      "text/html": [
       "<div>\n",
       "<style scoped>\n",
       "    .dataframe tbody tr th:only-of-type {\n",
       "        vertical-align: middle;\n",
       "    }\n",
       "\n",
       "    .dataframe tbody tr th {\n",
       "        vertical-align: top;\n",
       "    }\n",
       "\n",
       "    .dataframe thead th {\n",
       "        text-align: right;\n",
       "    }\n",
       "</style>\n",
       "<table border=\"1\" class=\"dataframe\">\n",
       "  <thead>\n",
       "    <tr style=\"text-align: right;\">\n",
       "      <th></th>\n",
       "      <th>adgroup 2</th>\n",
       "      <th>adgroup 3</th>\n",
       "      <th>adgroup 4</th>\n",
       "      <th>impressions</th>\n",
       "      <th>clicks</th>\n",
       "      <th>cost</th>\n",
       "      <th>conversions</th>\n",
       "      <th>CTR</th>\n",
       "      <th>CPC</th>\n",
       "      <th>revenue</th>\n",
       "      <th>day_cos</th>\n",
       "      <th>day_sin</th>\n",
       "    </tr>\n",
       "  </thead>\n",
       "  <tbody>\n",
       "    <tr>\n",
       "      <th>0</th>\n",
       "      <td>0</td>\n",
       "      <td>0</td>\n",
       "      <td>0</td>\n",
       "      <td>24</td>\n",
       "      <td>1.945910</td>\n",
       "      <td>0.076961</td>\n",
       "      <td>0.000000</td>\n",
       "      <td>0.250000</td>\n",
       "      <td>0.013333</td>\n",
       "      <td>0.00</td>\n",
       "      <td>-0.050649</td>\n",
       "      <td>0.998717</td>\n",
       "    </tr>\n",
       "    <tr>\n",
       "      <th>1</th>\n",
       "      <td>1</td>\n",
       "      <td>0</td>\n",
       "      <td>0</td>\n",
       "      <td>1</td>\n",
       "      <td>0.000000</td>\n",
       "      <td>0.000000</td>\n",
       "      <td>0.000000</td>\n",
       "      <td>0.000000</td>\n",
       "      <td>0.000000</td>\n",
       "      <td>0.00</td>\n",
       "      <td>-0.050649</td>\n",
       "      <td>0.998717</td>\n",
       "    </tr>\n",
       "    <tr>\n",
       "      <th>2</th>\n",
       "      <td>0</td>\n",
       "      <td>1</td>\n",
       "      <td>0</td>\n",
       "      <td>13</td>\n",
       "      <td>1.609438</td>\n",
       "      <td>0.039221</td>\n",
       "      <td>0.000000</td>\n",
       "      <td>0.307692</td>\n",
       "      <td>0.010000</td>\n",
       "      <td>0.00</td>\n",
       "      <td>-0.050649</td>\n",
       "      <td>0.998717</td>\n",
       "    </tr>\n",
       "    <tr>\n",
       "      <th>3</th>\n",
       "      <td>0</td>\n",
       "      <td>0</td>\n",
       "      <td>1</td>\n",
       "      <td>5</td>\n",
       "      <td>1.609438</td>\n",
       "      <td>0.076961</td>\n",
       "      <td>0.000000</td>\n",
       "      <td>0.800000</td>\n",
       "      <td>0.020000</td>\n",
       "      <td>0.00</td>\n",
       "      <td>-0.050649</td>\n",
       "      <td>0.998717</td>\n",
       "    </tr>\n",
       "    <tr>\n",
       "      <th>4</th>\n",
       "      <td>0</td>\n",
       "      <td>0</td>\n",
       "      <td>0</td>\n",
       "      <td>247</td>\n",
       "      <td>4.844187</td>\n",
       "      <td>0.828552</td>\n",
       "      <td>1.609438</td>\n",
       "      <td>0.510121</td>\n",
       "      <td>0.010238</td>\n",
       "      <td>925.71</td>\n",
       "      <td>-0.050649</td>\n",
       "      <td>0.998717</td>\n",
       "    </tr>\n",
       "    <tr>\n",
       "      <th>5</th>\n",
       "      <td>1</td>\n",
       "      <td>0</td>\n",
       "      <td>0</td>\n",
       "      <td>7</td>\n",
       "      <td>1.098612</td>\n",
       "      <td>0.039221</td>\n",
       "      <td>0.000000</td>\n",
       "      <td>0.285714</td>\n",
       "      <td>0.020000</td>\n",
       "      <td>0.00</td>\n",
       "      <td>-0.050649</td>\n",
       "      <td>0.998717</td>\n",
       "    </tr>\n",
       "    <tr>\n",
       "      <th>6</th>\n",
       "      <td>0</td>\n",
       "      <td>0</td>\n",
       "      <td>1</td>\n",
       "      <td>6</td>\n",
       "      <td>1.386294</td>\n",
       "      <td>0.048790</td>\n",
       "      <td>0.000000</td>\n",
       "      <td>0.500000</td>\n",
       "      <td>0.016667</td>\n",
       "      <td>0.00</td>\n",
       "      <td>-0.050649</td>\n",
       "      <td>0.998717</td>\n",
       "    </tr>\n",
       "    <tr>\n",
       "      <th>7</th>\n",
       "      <td>0</td>\n",
       "      <td>0</td>\n",
       "      <td>0</td>\n",
       "      <td>129</td>\n",
       "      <td>3.970292</td>\n",
       "      <td>0.457425</td>\n",
       "      <td>0.000000</td>\n",
       "      <td>0.403101</td>\n",
       "      <td>0.011154</td>\n",
       "      <td>0.00</td>\n",
       "      <td>-0.050649</td>\n",
       "      <td>0.998717</td>\n",
       "    </tr>\n",
       "    <tr>\n",
       "      <th>8</th>\n",
       "      <td>0</td>\n",
       "      <td>1</td>\n",
       "      <td>0</td>\n",
       "      <td>104</td>\n",
       "      <td>4.043051</td>\n",
       "      <td>0.444686</td>\n",
       "      <td>0.000000</td>\n",
       "      <td>0.538462</td>\n",
       "      <td>0.010000</td>\n",
       "      <td>0.00</td>\n",
       "      <td>-0.050649</td>\n",
       "      <td>0.998717</td>\n",
       "    </tr>\n",
       "    <tr>\n",
       "      <th>9</th>\n",
       "      <td>0</td>\n",
       "      <td>0</td>\n",
       "      <td>1</td>\n",
       "      <td>6</td>\n",
       "      <td>1.791759</td>\n",
       "      <td>0.048790</td>\n",
       "      <td>0.000000</td>\n",
       "      <td>0.833333</td>\n",
       "      <td>0.010000</td>\n",
       "      <td>0.00</td>\n",
       "      <td>-0.050649</td>\n",
       "      <td>0.998717</td>\n",
       "    </tr>\n",
       "  </tbody>\n",
       "</table>\n",
       "</div>"
      ],
      "text/plain": [
       "   adgroup 2  adgroup 3  adgroup 4  impressions    clicks      cost  \\\n",
       "0          0          0          0           24  1.945910  0.076961   \n",
       "1          1          0          0            1  0.000000  0.000000   \n",
       "2          0          1          0           13  1.609438  0.039221   \n",
       "3          0          0          1            5  1.609438  0.076961   \n",
       "4          0          0          0          247  4.844187  0.828552   \n",
       "5          1          0          0            7  1.098612  0.039221   \n",
       "6          0          0          1            6  1.386294  0.048790   \n",
       "7          0          0          0          129  3.970292  0.457425   \n",
       "8          0          1          0          104  4.043051  0.444686   \n",
       "9          0          0          1            6  1.791759  0.048790   \n",
       "\n",
       "   conversions       CTR       CPC  revenue   day_cos   day_sin  \n",
       "0     0.000000  0.250000  0.013333     0.00 -0.050649  0.998717  \n",
       "1     0.000000  0.000000  0.000000     0.00 -0.050649  0.998717  \n",
       "2     0.000000  0.307692  0.010000     0.00 -0.050649  0.998717  \n",
       "3     0.000000  0.800000  0.020000     0.00 -0.050649  0.998717  \n",
       "4     1.609438  0.510121  0.010238   925.71 -0.050649  0.998717  \n",
       "5     0.000000  0.285714  0.020000     0.00 -0.050649  0.998717  \n",
       "6     0.000000  0.500000  0.016667     0.00 -0.050649  0.998717  \n",
       "7     0.000000  0.403101  0.011154     0.00 -0.050649  0.998717  \n",
       "8     0.000000  0.538462  0.010000     0.00 -0.050649  0.998717  \n",
       "9     0.000000  0.833333  0.010000     0.00 -0.050649  0.998717  "
      ]
     },
     "execution_count": 34,
     "metadata": {},
     "output_type": "execute_result"
    }
   ],
   "source": [
    "print(df.shape)\n",
    "df.head(10)"
   ]
  },
  {
   "cell_type": "code",
   "execution_count": 35,
   "id": "89c9bdc1",
   "metadata": {},
   "outputs": [],
   "source": [
    "X = df.drop(['revenue'],axis=1)\n",
    "y = df.revenue"
   ]
  },
  {
   "cell_type": "markdown",
   "id": "15156ff2",
   "metadata": {},
   "source": [
    "### Feature Selection"
   ]
  },
  {
   "cell_type": "markdown",
   "id": "63abb747",
   "metadata": {},
   "source": [
    "#### RFE"
   ]
  },
  {
   "cell_type": "code",
   "execution_count": 36,
   "id": "957dfbbd",
   "metadata": {},
   "outputs": [
    {
     "name": "stdout",
     "output_type": "stream",
     "text": [
      "Num Features: 5\n",
      "Selected Features: [False False False False  True  True  True  True  True False False]\n",
      "Feature Ranking: [5 3 4 7 1 1 1 1 1 6 2]\n"
     ]
    }
   ],
   "source": [
    "lr = LinearRegression()\n",
    "rfe = RFE(lr,5)\n",
    "rfe.fit(X,y)\n",
    "print(\"Num Features: %d\" % rfe.n_features_)\n",
    "print(\"Selected Features: %s\" % rfe.support_)\n",
    "print(\"Feature Ranking: %s\" % rfe.ranking_)"
   ]
  },
  {
   "cell_type": "markdown",
   "id": "1980c790",
   "metadata": {},
   "source": [
    "#### Extra trees feature importance"
   ]
  },
  {
   "cell_type": "code",
   "execution_count": 37,
   "id": "ff55f337",
   "metadata": {},
   "outputs": [
    {
     "data": {
      "image/png": "[encoded data removed]",
      "text/plain": [
       "<Figure size 432x288 with 1 Axes>"
      ]
     },
     "metadata": {
      "needs_background": "light"
     },
     "output_type": "display_data"
    }
   ],
   "source": [
    "ext = ExtraTreesRegressor()\n",
    "ext.fit(X,y)\n",
    "imp = pd.Series(ext.feature_importances_,index=X.columns)\n",
    "imp.nlargest(5).plot(kind='barh')\n",
    "plt.show()"
   ]
  },
  {
   "cell_type": "markdown",
   "id": "76956cc7",
   "metadata": {},
   "source": [
    "#### train test split"
   ]
  },
  {
   "cell_type": "code",
   "execution_count": 38,
   "id": "63356518",
   "metadata": {},
   "outputs": [
    {
     "name": "stdout",
     "output_type": "stream",
     "text": [
      "(4053, 11) (451, 11)\n"
     ]
    },
    {
     "data": {
      "text/html": [
       "<div>\n",
       "<style scoped>\n",
       "    .dataframe tbody tr th:only-of-type {\n",
       "        vertical-align: middle;\n",
       "    }\n",
       "\n",
       "    .dataframe tbody tr th {\n",
       "        vertical-align: top;\n",
       "    }\n",
       "\n",
       "    .dataframe thead th {\n",
       "        text-align: right;\n",
       "    }\n",
       "</style>\n",
       "<table border=\"1\" class=\"dataframe\">\n",
       "  <thead>\n",
       "    <tr style=\"text-align: right;\">\n",
       "      <th></th>\n",
       "      <th>adgroup 2</th>\n",
       "      <th>adgroup 3</th>\n",
       "      <th>adgroup 4</th>\n",
       "      <th>impressions</th>\n",
       "      <th>clicks</th>\n",
       "      <th>cost</th>\n",
       "      <th>conversions</th>\n",
       "      <th>CTR</th>\n",
       "      <th>CPC</th>\n",
       "      <th>day_cos</th>\n",
       "      <th>day_sin</th>\n",
       "    </tr>\n",
       "  </thead>\n",
       "  <tbody>\n",
       "    <tr>\n",
       "      <th>1946</th>\n",
       "      <td>0</td>\n",
       "      <td>1</td>\n",
       "      <td>0</td>\n",
       "      <td>1</td>\n",
       "      <td>0.000000</td>\n",
       "      <td>0.000000</td>\n",
       "      <td>0.0</td>\n",
       "      <td>0.000000</td>\n",
       "      <td>0.000000</td>\n",
       "      <td>-0.612106</td>\n",
       "      <td>0.790776</td>\n",
       "    </tr>\n",
       "    <tr>\n",
       "      <th>4385</th>\n",
       "      <td>0</td>\n",
       "      <td>0</td>\n",
       "      <td>1</td>\n",
       "      <td>6</td>\n",
       "      <td>0.693147</td>\n",
       "      <td>0.009950</td>\n",
       "      <td>0.0</td>\n",
       "      <td>0.166667</td>\n",
       "      <td>0.010000</td>\n",
       "      <td>-0.440394</td>\n",
       "      <td>-0.897805</td>\n",
       "    </tr>\n",
       "    <tr>\n",
       "      <th>1412</th>\n",
       "      <td>0</td>\n",
       "      <td>1</td>\n",
       "      <td>0</td>\n",
       "      <td>18</td>\n",
       "      <td>2.484907</td>\n",
       "      <td>0.871293</td>\n",
       "      <td>0.0</td>\n",
       "      <td>0.611111</td>\n",
       "      <td>0.126364</td>\n",
       "      <td>-0.440394</td>\n",
       "      <td>-0.897805</td>\n",
       "    </tr>\n",
       "    <tr>\n",
       "      <th>2790</th>\n",
       "      <td>0</td>\n",
       "      <td>1</td>\n",
       "      <td>0</td>\n",
       "      <td>68</td>\n",
       "      <td>3.401197</td>\n",
       "      <td>0.336472</td>\n",
       "      <td>0.0</td>\n",
       "      <td>0.426471</td>\n",
       "      <td>0.013793</td>\n",
       "      <td>-0.954139</td>\n",
       "      <td>-0.299363</td>\n",
       "    </tr>\n",
       "    <tr>\n",
       "      <th>4263</th>\n",
       "      <td>1</td>\n",
       "      <td>0</td>\n",
       "      <td>0</td>\n",
       "      <td>11</td>\n",
       "      <td>1.609438</td>\n",
       "      <td>0.048790</td>\n",
       "      <td>0.0</td>\n",
       "      <td>0.363636</td>\n",
       "      <td>0.012500</td>\n",
       "      <td>-0.994869</td>\n",
       "      <td>-0.101168</td>\n",
       "    </tr>\n",
       "  </tbody>\n",
       "</table>\n",
       "</div>"
      ],
      "text/plain": [
       "      adgroup 2  adgroup 3  adgroup 4  impressions    clicks      cost  \\\n",
       "1946          0          1          0            1  0.000000  0.000000   \n",
       "4385          0          0          1            6  0.693147  0.009950   \n",
       "1412          0          1          0           18  2.484907  0.871293   \n",
       "2790          0          1          0           68  3.401197  0.336472   \n",
       "4263          1          0          0           11  1.609438  0.048790   \n",
       "\n",
       "      conversions       CTR       CPC   day_cos   day_sin  \n",
       "1946          0.0  0.000000  0.000000 -0.612106  0.790776  \n",
       "4385          0.0  0.166667  0.010000 -0.440394 -0.897805  \n",
       "1412          0.0  0.611111  0.126364 -0.440394 -0.897805  \n",
       "2790          0.0  0.426471  0.013793 -0.954139 -0.299363  \n",
       "4263          0.0  0.363636  0.012500 -0.994869 -0.101168  "
      ]
     },
     "execution_count": 38,
     "metadata": {},
     "output_type": "execute_result"
    }
   ],
   "source": [
    "X_train,X_test,y_train,y_test = train_test_split(X,y,test_size=0.1,random_state=33)\n",
    "print(X_train.shape,X_test.shape)\n",
    "X_train.head()"
   ]
  },
  {
   "cell_type": "code",
   "execution_count": 39,
   "id": "577b0c03",
   "metadata": {
    "scrolled": true
   },
   "outputs": [
    {
     "data": {
      "text/html": [
       "<div>\n",
       "<style scoped>\n",
       "    .dataframe tbody tr th:only-of-type {\n",
       "        vertical-align: middle;\n",
       "    }\n",
       "\n",
       "    .dataframe tbody tr th {\n",
       "        vertical-align: top;\n",
       "    }\n",
       "\n",
       "    .dataframe thead th {\n",
       "        text-align: right;\n",
       "    }\n",
       "</style>\n",
       "<table border=\"1\" class=\"dataframe\">\n",
       "  <thead>\n",
       "    <tr style=\"text-align: right;\">\n",
       "      <th></th>\n",
       "      <th>adgroup 2</th>\n",
       "      <th>adgroup 3</th>\n",
       "      <th>adgroup 4</th>\n",
       "      <th>impressions</th>\n",
       "      <th>clicks</th>\n",
       "      <th>cost</th>\n",
       "      <th>conversions</th>\n",
       "      <th>CTR</th>\n",
       "      <th>CPC</th>\n",
       "      <th>day_cos</th>\n",
       "      <th>day_sin</th>\n",
       "    </tr>\n",
       "  </thead>\n",
       "  <tbody>\n",
       "    <tr>\n",
       "      <th>0</th>\n",
       "      <td>-0.437845</td>\n",
       "      <td>1.322043</td>\n",
       "      <td>-0.489723</td>\n",
       "      <td>-0.537694</td>\n",
       "      <td>-1.483598</td>\n",
       "      <td>-0.728218</td>\n",
       "      <td>-0.556819</td>\n",
       "      <td>-1.871565</td>\n",
       "      <td>-0.431467</td>\n",
       "      <td>-0.701437</td>\n",
       "      <td>1.186717</td>\n",
       "    </tr>\n",
       "    <tr>\n",
       "      <th>1</th>\n",
       "      <td>-0.437845</td>\n",
       "      <td>-0.756405</td>\n",
       "      <td>2.041970</td>\n",
       "      <td>-0.502891</td>\n",
       "      <td>-1.045986</td>\n",
       "      <td>-0.715063</td>\n",
       "      <td>-0.556819</td>\n",
       "      <td>-1.161839</td>\n",
       "      <td>-0.357176</td>\n",
       "      <td>-0.460431</td>\n",
       "      <td>-1.253524</td>\n",
       "    </tr>\n",
       "    <tr>\n",
       "      <th>2</th>\n",
       "      <td>-0.437845</td>\n",
       "      <td>1.322043</td>\n",
       "      <td>-0.489723</td>\n",
       "      <td>-0.419363</td>\n",
       "      <td>0.085225</td>\n",
       "      <td>0.423670</td>\n",
       "      <td>-0.556819</td>\n",
       "      <td>0.730765</td>\n",
       "      <td>0.507307</td>\n",
       "      <td>-0.460431</td>\n",
       "      <td>-1.253524</td>\n",
       "    </tr>\n",
       "    <tr>\n",
       "      <th>3</th>\n",
       "      <td>-0.437845</td>\n",
       "      <td>1.322043</td>\n",
       "      <td>-0.489723</td>\n",
       "      <td>-0.071332</td>\n",
       "      <td>0.663717</td>\n",
       "      <td>-0.283387</td>\n",
       "      <td>-0.556819</td>\n",
       "      <td>-0.055501</td>\n",
       "      <td>-0.328996</td>\n",
       "      <td>-1.181497</td>\n",
       "      <td>-0.388690</td>\n",
       "    </tr>\n",
       "    <tr>\n",
       "      <th>4</th>\n",
       "      <td>2.283913</td>\n",
       "      <td>-0.756405</td>\n",
       "      <td>-0.489723</td>\n",
       "      <td>-0.468088</td>\n",
       "      <td>-0.467494</td>\n",
       "      <td>-0.663715</td>\n",
       "      <td>-0.556819</td>\n",
       "      <td>-0.323071</td>\n",
       "      <td>-0.338603</td>\n",
       "      <td>-1.238664</td>\n",
       "      <td>-0.102270</td>\n",
       "    </tr>\n",
       "  </tbody>\n",
       "</table>\n",
       "</div>"
      ],
      "text/plain": [
       "   adgroup 2  adgroup 3  adgroup 4  impressions    clicks      cost  \\\n",
       "0  -0.437845   1.322043  -0.489723    -0.537694 -1.483598 -0.728218   \n",
       "1  -0.437845  -0.756405   2.041970    -0.502891 -1.045986 -0.715063   \n",
       "2  -0.437845   1.322043  -0.489723    -0.419363  0.085225  0.423670   \n",
       "3  -0.437845   1.322043  -0.489723    -0.071332  0.663717 -0.283387   \n",
       "4   2.283913  -0.756405  -0.489723    -0.468088 -0.467494 -0.663715   \n",
       "\n",
       "   conversions       CTR       CPC   day_cos   day_sin  \n",
       "0    -0.556819 -1.871565 -0.431467 -0.701437  1.186717  \n",
       "1    -0.556819 -1.161839 -0.357176 -0.460431 -1.253524  \n",
       "2    -0.556819  0.730765  0.507307 -0.460431 -1.253524  \n",
       "3    -0.556819 -0.055501 -0.328996 -1.181497 -0.388690  \n",
       "4    -0.556819 -0.323071 -0.338603 -1.238664 -0.102270  "
      ]
     },
     "execution_count": 39,
     "metadata": {},
     "output_type": "execute_result"
    }
   ],
   "source": [
    "scaler = StandardScaler()\n",
    "X_train = pd.DataFrame(scaler.fit_transform(X_train),columns=X_train.columns)\n",
    "X_test = pd.DataFrame(scaler.transform(X_test),columns=X_test.columns)\n",
    "X_train.head()"
   ]
  },
  {
   "cell_type": "code",
   "execution_count": 40,
   "id": "424efb4c",
   "metadata": {},
   "outputs": [],
   "source": [
    "def evaluation(model,train_x,train_y,test_x,test_y,title='Default'):\n",
    "    pred = model.predict(test_x)\n",
    "    print('Training Score for '+ title+' :',model.score(train_x,train_y))\n",
    "    print('Testing Score for '+ title+' :',model.score(test_x,test_y))\n",
    "    print(\"RMSE for \"+title+' :',np.sqrt(mean_squared_error(test_y,pred)))"
   ]
  },
  {
   "cell_type": "markdown",
   "id": "be6efe49",
   "metadata": {},
   "source": [
    "### Linear Regression"
   ]
  },
  {
   "cell_type": "code",
   "execution_count": 41,
   "id": "63348087",
   "metadata": {},
   "outputs": [
    {
     "name": "stdout",
     "output_type": "stream",
     "text": [
      "13.953923320246188\n",
      "Training Score for Linear Regression : 0.7121256935382296\n",
      "Testing Score for Linear Regression : 0.7354894070601603\n",
      "RMSE for Linear Regression : 165.5909928381587\n"
     ]
    }
   ],
   "source": [
    "lr = LinearRegression()\n",
    "score = -np.mean(cross_val_score(lr,X,y,scoring='neg_root_mean_squared_error',cv=5))\n",
    "print(np.sqrt(score))\n",
    "lr.fit(X_train,y_train)\n",
    "evaluation(lr,X_train,y_train,X_test,y_test,'Linear Regression')"
   ]
  },
  {
   "cell_type": "code",
   "execution_count": 42,
   "id": "b8faaa6a",
   "metadata": {},
   "outputs": [],
   "source": [
    "temp = pd.DataFrame(lr.predict(X_train))\n",
    "s = cross_val_score(lr,X,y,scoring='neg_root_mean_squared_error',cv=5)"
   ]
  },
  {
   "cell_type": "code",
   "execution_count": 43,
   "id": "15b2abfe",
   "metadata": {},
   "outputs": [
    {
     "data": {
      "text/plain": [
       "array([-287.93431084, -204.41818403, -181.34541375, -149.16177318,\n",
       "       -150.70019833])"
      ]
     },
     "execution_count": 43,
     "metadata": {},
     "output_type": "execute_result"
    }
   ],
   "source": [
    "s"
   ]
  },
  {
   "cell_type": "code",
   "execution_count": 44,
   "id": "59c3c019",
   "metadata": {},
   "outputs": [
    {
     "name": "stdout",
     "output_type": "stream",
     "text": [
      "194.67354228531093\n"
     ]
    }
   ],
   "source": [
    "print(np.sqrt(mean_squared_error(y_train,lr.predict(X_train))))"
   ]
  },
  {
   "cell_type": "markdown",
   "id": "3042277d",
   "metadata": {},
   "source": [
    "### Ridge"
   ]
  },
  {
   "cell_type": "code",
   "execution_count": 45,
   "id": "aa590105",
   "metadata": {},
   "outputs": [
    {
     "data": {
      "text/plain": [
       "GridSearchCV(cv=5, estimator=Ridge(),\n",
       "             param_grid={'alpha': [1e-05, 0.001, 0.01, 0.1, 1, 10, 100]},\n",
       "             scoring='neg_root_mean_squared_error')"
      ]
     },
     "execution_count": 45,
     "metadata": {},
     "output_type": "execute_result"
    }
   ],
   "source": [
    "ridge = Ridge()\n",
    "param = {'alpha':[1e-5,1e-3,1e-2,1e-1,1,10,100]}\n",
    "ridge = GridSearchCV(ridge,param,scoring='neg_root_mean_squared_error',cv=5)\n",
    "ridge.fit(X_train,y_train)"
   ]
  },
  {
   "cell_type": "code",
   "execution_count": 46,
   "id": "c694e4bc",
   "metadata": {},
   "outputs": [
    {
     "name": "stdout",
     "output_type": "stream",
     "text": [
      "Ridge(alpha=1)\n",
      "13.966213540947734\n"
     ]
    }
   ],
   "source": [
    "print(ridge.best_estimator_)\n",
    "print(np.sqrt(-ridge.best_score_))"
   ]
  },
  {
   "cell_type": "code",
   "execution_count": 47,
   "id": "2f682bca",
   "metadata": {},
   "outputs": [
    {
     "name": "stdout",
     "output_type": "stream",
     "text": [
      "Training Score for Ridge Regression : -194.6735998792891\n",
      "Testing Score for Ridge Regression : -165.57841730416405\n",
      "RMSE for Ridge Regression : 165.57841730416405\n"
     ]
    }
   ],
   "source": [
    "evaluation(ridge,X_train,y_train,X_test,y_test,'Ridge Regression')"
   ]
  },
  {
   "cell_type": "code",
   "execution_count": 48,
   "id": "fd37c429",
   "metadata": {},
   "outputs": [
    {
     "name": "stdout",
     "output_type": "stream",
     "text": [
      "194.6735998792891\n"
     ]
    }
   ],
   "source": [
    "print(np.sqrt(mean_squared_error(y_train,ridge.predict(X_train))))"
   ]
  },
  {
   "cell_type": "markdown",
   "id": "1760a0de",
   "metadata": {},
   "source": [
    "### Lasso"
   ]
  },
  {
   "cell_type": "code",
   "execution_count": 49,
   "id": "0a67594a",
   "metadata": {},
   "outputs": [
    {
     "data": {
      "text/plain": [
       "GridSearchCV(cv=5, estimator=Lasso(),\n",
       "             param_grid={'alpha': [1e-05, 0.001, 0.01, 0.1, 1, 10, 100]},\n",
       "             scoring='neg_root_mean_squared_error')"
      ]
     },
     "execution_count": 49,
     "metadata": {},
     "output_type": "execute_result"
    }
   ],
   "source": [
    "lasso = Lasso()\n",
    "lasso = GridSearchCV(lasso,param,scoring='neg_root_mean_squared_error',cv=5)\n",
    "lasso.fit(X_train,y_train)"
   ]
  },
  {
   "cell_type": "code",
   "execution_count": 50,
   "id": "34361ed8",
   "metadata": {},
   "outputs": [
    {
     "name": "stdout",
     "output_type": "stream",
     "text": [
      "Lasso(alpha=0.1)\n",
      "13.966143524170123\n"
     ]
    }
   ],
   "source": [
    "print(lasso.best_estimator_)\n",
    "print(np.sqrt(-lasso.best_score_))"
   ]
  },
  {
   "cell_type": "code",
   "execution_count": 51,
   "id": "afd81e37",
   "metadata": {},
   "outputs": [
    {
     "name": "stdout",
     "output_type": "stream",
     "text": [
      "Training Score for Lasso Regression : -194.6748599511841\n",
      "Testing Score for Lasso Regression : -165.5406114061066\n",
      "RMSE for Lasso Regression : 165.5406114061066\n"
     ]
    }
   ],
   "source": [
    "evaluation(lasso,X_train,y_train,X_test,y_test,'Lasso Regression')"
   ]
  },
  {
   "cell_type": "code",
   "execution_count": 52,
   "id": "69841f53",
   "metadata": {},
   "outputs": [
    {
     "name": "stdout",
     "output_type": "stream",
     "text": [
      "194.6748599511841\n"
     ]
    }
   ],
   "source": [
    "print(np.sqrt(mean_squared_error(y_train,lasso.predict(X_train))))"
   ]
  },
  {
   "cell_type": "markdown",
   "id": "f217ca48",
   "metadata": {},
   "source": [
    "### DecisionTree Regressor"
   ]
  },
  {
   "cell_type": "code",
   "execution_count": 53,
   "id": "11e81713",
   "metadata": {},
   "outputs": [],
   "source": [
    "dtr = DecisionTreeRegressor()\n",
    "parameters={\"splitter\":[\"best\",\"random\"],\n",
    "            \"max_depth\" : [1,3,5,7,9,11,12],\n",
    "           \"min_samples_leaf\":[1,2,3,4,5,6,7,8,9,10],\n",
    "           \"min_weight_fraction_leaf\":[0.1,0.2,0.3,0.4,0.5,0.6,0.7,0.8,0.9],\n",
    "           \"max_features\":[\"auto\",\"log2\",\"sqrt\",None],\n",
    "           \"max_leaf_nodes\":[None,10,20,30,40,50,60,70,80,90] }\n",
    "dt_cv = GridSearchCV(dtr,param_grid=parameters,scoring='neg_root_mean_squared_error',cv=5)"
   ]
  },
  {
   "cell_type": "code",
   "execution_count": null,
   "id": "b069948c",
   "metadata": {},
   "outputs": [],
   "source": [
    "dt_cv.fit(X_train,y_train)"
   ]
  },
  {
   "cell_type": "code",
   "execution_count": null,
   "id": "f47f51bd",
   "metadata": {},
   "outputs": [],
   "source": [
    "print(dt_cv.best_params_)\n",
    "print(dt_cv.best_score_)"
   ]
  },
  {
   "cell_type": "code",
   "execution_count": null,
   "id": "3ba399e7",
   "metadata": {},
   "outputs": [],
   "source": [
    "dtr = dt_cv.best_estimator_\n",
    "evaluation(dtr,X_train,y_train,X_test,y_test,'Decision tree regressor')"
   ]
  },
  {
   "cell_type": "markdown",
   "id": "bac2552c",
   "metadata": {},
   "source": [
    "### Random Forest"
   ]
  },
  {
   "cell_type": "code",
   "execution_count": null,
   "id": "08f51d3a",
   "metadata": {},
   "outputs": [],
   "source": [
    "from sklearn.model_selection import RandomizedSearchCV\n",
    "rfr = RandomForestRegressor()\n",
    "parameters = {'bootstrap': [True, False],\n",
    "             'max_depth': [10, 20, 30, 40, 50, 60, 70, 80, 90, 100, None],\n",
    "             'max_features': ['auto', 'sqrt'],\n",
    "             'min_samples_leaf': [1, 2, 4],\n",
    "             'min_samples_split': [2, 5, 10],\n",
    "             'n_estimators': [200, 400, 600, 800, 1000, 1200, 1400, 1600, 1800, 2000]}\n",
    "rfr_cv = RandomizedSearchCV(rfr,param_distributions=parameters,scoring='neg_root_mean_squared_error',cv=5,n_iter=100,n_jobs=-1,\n",
    "                            verbose=2, random_state=32)\n",
    "rfr_cv.fit(X_train,y_train)"
   ]
  },
  {
   "cell_type": "code",
   "execution_count": null,
   "id": "f96a01e6",
   "metadata": {},
   "outputs": [],
   "source": [
    "rfr_param_grid = {'bootstrap': [True],\n",
    "            'max_depth': [80, 90, 100, 110],\n",
    "            'max_features': [2, 3],\n",
    "            'min_samples_leaf': [3, 4, 5],\n",
    "            'min_samples_split': [8, 10, 12],\n",
    "            'n_estimators': [100, 200, 300, 1000]}\n",
    "rfr = RandomForestRegressor()\n",
    "rfr_cv = GridSearchCV(rfr,param_grid=rfr_param_grid,scoring='neg_root_mean_squared_error',cv=5)\n",
    "rfr_cv.fit(X_train,y_train)"
   ]
  },
  {
   "cell_type": "code",
   "execution_count": null,
   "id": "8d9a0731",
   "metadata": {},
   "outputs": [],
   "source": [
    "print(rfr_cv.best_params_)\n",
    "print(rfr_cv.best_score_)"
   ]
  },
  {
   "cell_type": "code",
   "execution_count": null,
   "id": "107667a4",
   "metadata": {},
   "outputs": [],
   "source": [
    "rfr = rfr_cv.best_estimator_"
   ]
  },
  {
   "cell_type": "code",
   "execution_count": null,
   "id": "327cec13",
   "metadata": {},
   "outputs": [],
   "source": [
    "evaluation(rfr,X_train,y_train,X_test,y_test,'Random Forest')"
   ]
  },
  {
   "cell_type": "markdown",
   "id": "98be256e",
   "metadata": {},
   "source": [
    "### Bagging Regressor"
   ]
  },
  {
   "cell_type": "code",
   "execution_count": null,
   "id": "c77174cd",
   "metadata": {},
   "outputs": [],
   "source": [
    "br = BaggingRegressor()\n",
    "br_params = {'n_estimators': [20,50,100,200],\n",
    "        \"max_features\":[1,2,4,6,8],\n",
    "        \"max_samples\": [0.5,0.1],\n",
    "        \"bootstrap\": [True, False],\n",
    "        \"bootstrap_features\": [True, False]}\n",
    "br_cv = GridSearchCV(br,param_grid=br_params,cv=5,scoring='neg_root_mean_squared_error')\n",
    "br_cv.fit(X_train,y_train)"
   ]
  },
  {
   "cell_type": "code",
   "execution_count": null,
   "id": "2053f979",
   "metadata": {},
   "outputs": [],
   "source": [
    "print(br_cv.best_params_)\n",
    "print(br_cv.best_score_)"
   ]
  },
  {
   "cell_type": "code",
   "execution_count": null,
   "id": "1629c0a8",
   "metadata": {},
   "outputs": [],
   "source": [
    "br = br_cv.best_estimator_\n",
    "evaluation(br,X_train,y_train,X_test,y_test,'Bagging Regressor')"
   ]
  },
  {
   "cell_type": "markdown",
   "id": "f6c2c55a",
   "metadata": {},
   "source": [
    "### AdaBoost"
   ]
  },
  {
   "cell_type": "code",
   "execution_count": null,
   "id": "19c4b78d",
   "metadata": {},
   "outputs": [],
   "source": [
    "ada = AdaBoostRegressor()\n",
    "ada_params = {'learning_rate':[0.05,0.1,0.2,0.6,0.8,1],\n",
    "        'n_estimators': [50,60,100],\n",
    "        'loss' : ['linear', 'square', 'exponential']}\n",
    "ada_cv = GridSearchCV(ada,param_grid=ada_params,scoring='neg_root_mean_squared_error',cv=5)\n",
    "ada_cv.fit(X_train,y_train)"
   ]
  },
  {
   "cell_type": "code",
   "execution_count": null,
   "id": "2b0f93eb",
   "metadata": {},
   "outputs": [],
   "source": [
    "print(ada_cv.best_params_)\n",
    "print(ada_cv.best_score_)"
   ]
  },
  {
   "cell_type": "code",
   "execution_count": null,
   "id": "29082eeb",
   "metadata": {},
   "outputs": [],
   "source": [
    "ada = ada_cv.best_estimator_\n",
    "evaluation(ada,X_train,y_train,X_test,y_test,'AdaBoost Regressor')"
   ]
  },
  {
   "cell_type": "markdown",
   "id": "491f581f",
   "metadata": {},
   "source": [
    "### GradientBoosting Regressor"
   ]
  },
  {
   "cell_type": "code",
   "execution_count": null,
   "id": "c06a2fb3",
   "metadata": {},
   "outputs": [],
   "source": [
    "gbr = GradientBoostingRegressor()\n",
    "gbr_params = {\"max_depth\": [3,5,6,7],\n",
    "        \"max_features\":['auto', 'sqrt', 'log2'],\n",
    "        \"min_samples_split\": [2, 3, 10],\n",
    "        \"min_samples_leaf\": [1, 3, 10],\n",
    "        'learning_rate':[0.05,0.1,0.2],\n",
    "        'n_estimators': [10,30,50,70]}\n",
    "gbr_cv = GridSearchCV(gbr,param_grid=gbr_params,cv=5,scoring='neg_root_mean_squared_error')\n",
    "gbr_cv.fit(X_train,y_train)"
   ]
  },
  {
   "cell_type": "code",
   "execution_count": null,
   "id": "f4f9d827",
   "metadata": {},
   "outputs": [],
   "source": [
    "print(gbr_cv.best_params_)\n",
    "print(gbr_cv.best_score_)"
   ]
  },
  {
   "cell_type": "code",
   "execution_count": null,
   "id": "6fceb758",
   "metadata": {},
   "outputs": [],
   "source": [
    "gbr = gbr_cv.best_estimator_\n",
    "evaluation(gbr,X_train,y_train,X_test,y_test,'GradientBoosting Regressor')"
   ]
  },
  {
   "cell_type": "markdown",
   "id": "7abc11a9",
   "metadata": {},
   "source": [
    "### XGBoost"
   ]
  },
  {
   "cell_type": "code",
   "execution_count": null,
   "id": "b41062e1",
   "metadata": {},
   "outputs": [],
   "source": [
    "xg = XGBRegressor()\n",
    "xg_params =  {\"max_depth\": [3,4,5,6,7,8],\n",
    "         \"min_child_weight\" : [4,5,6,7,8],\n",
    "        'learning_rate':[0.05,0.1,0.2,0.25,0.8,1],\n",
    "        'n_estimators': [10,30,50,70,80,100]}\n",
    "xg_cv = GridSearchCV(xg,param_grid=xg_params,cv=5,scoring='neg_root_mean_squared_error')\n",
    "xg_cv.fit(X_train,y_train)"
   ]
  },
  {
   "cell_type": "code",
   "execution_count": null,
   "id": "5fb3cb65",
   "metadata": {},
   "outputs": [],
   "source": [
    "print(xg_cv.best_params_)\n",
    "print(xg_cv.best_score_)"
   ]
  },
  {
   "cell_type": "code",
   "execution_count": null,
   "id": "c2356b53",
   "metadata": {},
   "outputs": [],
   "source": [
    "xg = xg_cv.best_estimator_\n",
    "evaluation(xg,X_train,y_train,X_test,y_test,'XGBoost Regressor')"
   ]
  },
  {
   "cell_type": "markdown",
   "id": "2aebd5ea",
   "metadata": {},
   "source": [
    "### Extra Tree Regressor"
   ]
  },
  {
   "cell_type": "code",
   "execution_count": null,
   "id": "e46b15f0",
   "metadata": {},
   "outputs": [],
   "source": [
    "# extr = ExtraTreesRegressor()\n",
    "# extra_params = {'n_estimators': [10,50,100],\n",
    "#             'criterion': ['mse', 'mae'],\n",
    "#             'max_depth': [2,8,16,32,50],\n",
    "#             'min_samples_split': [2,4,6],\n",
    "#             'min_samples_leaf': [1,2],\n",
    "#             'max_features': ['auto','sqrt','log2'],    \n",
    "#             'bootstrap': [True, False],\n",
    "#             'warm_start': [True, False]}\n",
    "# extr_cv = GridSearchCV(extr,param_grid=extra_params,cv=5,scoring='neg_root_mean_squared_error')\n",
    "# extr_cv.fit(X_train,y_train)"
   ]
  },
  {
   "cell_type": "code",
   "execution_count": null,
   "id": "7d9d5d93",
   "metadata": {},
   "outputs": [],
   "source": [
    "# print(extr_cv.best_params_)\n",
    "# print(extr_cv.best_score_)"
   ]
  },
  {
   "cell_type": "code",
   "execution_count": null,
   "id": "05bc4d1f",
   "metadata": {},
   "outputs": [],
   "source": [
    "# extr = extr_cv.best_estimator_\n",
    "# evaluation(extr,X_train,y_train,X_test,y_test,'Extra Tree Regressor')"
   ]
  },
  {
   "cell_type": "markdown",
   "id": "283f9408",
   "metadata": {},
   "source": [
    "### Testing data on model"
   ]
  },
  {
   "cell_type": "code",
   "execution_count": null,
   "id": "88ef78f3",
   "metadata": {},
   "outputs": [],
   "source": [
    "orig_test_df = pd.read_csv('Test_Data.csv')\n",
    "print(orig_test_df.shape)\n",
    "orig_test_df.head(10)"
   ]
  },
  {
   "cell_type": "code",
   "execution_count": null,
   "id": "6d6722b7",
   "metadata": {},
   "outputs": [],
   "source": [
    "orig_test_df['date'] = pd.to_datetime(orig_test_df.date)\n",
    "orig_test_df.info()"
   ]
  },
  {
   "cell_type": "code",
   "execution_count": null,
   "id": "f23cc96d",
   "metadata": {},
   "outputs": [],
   "source": [
    "date = pd.DataFrame(orig_test_df.date)\n",
    "temp = pd.get_dummies(orig_test_df.adgroup,drop_first=True)\n",
    "temp = pd.concat([date,temp],axis=1)\n",
    "orig_test_df.drop(['date','adgroup'],axis=1,inplace=True)\n",
    "orig_test_df = pd.concat([temp,orig_test_df],axis=1)\n",
    "orig_test_df.head()"
   ]
  },
  {
   "cell_type": "code",
   "execution_count": null,
   "id": "4a6a9323",
   "metadata": {},
   "outputs": [],
   "source": [
    "orig_test_df['CTR'] = orig_test_df['clicks'].astype(float)/orig_test_df['impressions'].astype(float)\n",
    "orig_test_df['CPC'] = orig_test_df['cost'].astype(float)/orig_test_df['clicks'].astype(float)\n",
    "orig_test_df.drop(['campaign','ad'],axis=1,inplace=True)\n",
    "orig_test_df.CPC = orig_test_df.CPC.fillna(0)\n",
    "orig_test_df.head()"
   ]
  },
  {
   "cell_type": "code",
   "execution_count": null,
   "id": "99fb2f13",
   "metadata": {},
   "outputs": [],
   "source": [
    "orig_test_df.isna().sum()"
   ]
  },
  {
   "cell_type": "code",
   "execution_count": null,
   "id": "97e76cd7",
   "metadata": {},
   "outputs": [],
   "source": [
    "day = orig_test_df.date.dt.day\n",
    "day.name = 'day'\n",
    "month = orig_test_df.date.dt.month\n",
    "month.name = 'month'\n",
    "orig_test_df = pd.concat([day,month,orig_test_df],axis=1)\n",
    "orig_test_df.drop(['date'],axis=1,inplace=True)\n",
    "orig_test_df.head()"
   ]
  },
  {
   "cell_type": "markdown",
   "id": "5eb350f8",
   "metadata": {},
   "source": [
    "#### transformations"
   ]
  },
  {
   "cell_type": "code",
   "execution_count": null,
   "id": "3426e9ec",
   "metadata": {},
   "outputs": [],
   "source": [
    "orig_test_df.clicks = np.log1p(orig_test_df.clicks)\n",
    "orig_test_df.cost = np.log1p(orig_test_df.cost)\n",
    "orig_test_df.conversions = np.log1p(orig_test_df.conversions)\n",
    "print(orig_test_df.shape)\n",
    "orig_test_df.head(10)"
   ]
  },
  {
   "cell_type": "code",
   "execution_count": null,
   "id": "4c2d1740",
   "metadata": {},
   "outputs": [],
   "source": [
    "X_train.head()"
   ]
  },
  {
   "cell_type": "code",
   "execution_count": null,
   "id": "e79fff02",
   "metadata": {},
   "outputs": [],
   "source": [
    "orig_test_df['day_cos'] = np.cos(2*np.pi*orig_test_df.day/31.0)\n",
    "orig_test_df['day_sin'] = np.sin(2*np.pi*orig_test_df.day/31.0)\n",
    "orig_test_df.drop(['day','month'],axis=1,inplace=True)\n",
    "model_test = orig_test_df.copy()\n",
    "model_test.head()"
   ]
  },
  {
   "cell_type": "markdown",
   "id": "566673ca",
   "metadata": {},
   "source": [
    "### scaling"
   ]
  },
  {
   "cell_type": "code",
   "execution_count": null,
   "id": "5cd1987b",
   "metadata": {},
   "outputs": [],
   "source": [
    "X_test = pd.DataFrame(scaler.transform(orig_test_df),columns=orig_test_df.columns)\n",
    "model_test = X_test[['adgroup 2','adgroup 3', 'adgroup 4','impressions','clicks','cost','conversions','CTR','CPC',\n",
    "                 'day_cos','day_sin']]\n",
    "model_test.head()"
   ]
  },
  {
   "cell_type": "markdown",
   "id": "4f9b24fa",
   "metadata": {},
   "source": [
    "### Random Forest Prediction Series"
   ]
  },
  {
   "cell_type": "code",
   "execution_count": null,
   "id": "a186dccb",
   "metadata": {},
   "outputs": [],
   "source": [
    "rfr_pred = pd.DataFrame(rfr.predict(model_test))\n",
    "rfr_pred.index = model_test.index\n",
    "rfr_pred.columns = ['revenue']\n",
    "rfr_pred.to_csv('rfr.csv',index=False)"
   ]
  },
  {
   "cell_type": "code",
   "execution_count": null,
   "id": "d9b05db6",
   "metadata": {},
   "outputs": [],
   "source": [
    "temp = pd.read_csv('rfr.csv')\n",
    "temp.head(10)"
   ]
  },
  {
   "cell_type": "markdown",
   "id": "67b24471",
   "metadata": {},
   "source": [
    "### GradientBoosting Prediction Series"
   ]
  },
  {
   "cell_type": "code",
   "execution_count": null,
   "id": "630ca91c",
   "metadata": {},
   "outputs": [],
   "source": [
    "gbr_pred = pd.DataFrame(gbr.predict(model_test))\n",
    "gbr_pred.index = model_test.index\n",
    "gbr_pred.columns = ['revenue']\n",
    "gbr_pred.to_csv('gbr.csv',index=False)"
   ]
  },
  {
   "cell_type": "code",
   "execution_count": null,
   "id": "eec36f69",
   "metadata": {},
   "outputs": [],
   "source": [
    "temp = pd.read_csv('gbr.csv')\n",
    "temp.head(10)"
   ]
  },
  {
   "cell_type": "markdown",
   "id": "15fb0444",
   "metadata": {},
   "source": [
    "### XGBoost Prediction Series"
   ]
  },
  {
   "cell_type": "code",
   "execution_count": null,
   "id": "56b472f5",
   "metadata": {},
   "outputs": [],
   "source": [
    "xg_pred = pd.DataFrame(xg.predict(model_test))\n",
    "xg_pred.index = model_test.index\n",
    "xg_pred.columns = ['revenue']\n",
    "xg_pred.to_csv('xg.csv',index=False)"
   ]
  },
  {
   "cell_type": "code",
   "execution_count": null,
   "id": "58107ee6",
   "metadata": {},
   "outputs": [],
   "source": [
    "temp = pd.read_csv('xg.csv')\n",
    "temp.head(10)"
   ]
  },
  {
   "cell_type": "markdown",
   "id": "9b1b7855",
   "metadata": {},
   "source": [
    "### Laso Prediction Series"
   ]
  },
  {
   "cell_type": "code",
   "execution_count": null,
   "id": "bbf4f85c",
   "metadata": {},
   "outputs": [],
   "source": [
    "laso_pred = pd.DataFrame(lasso.predict(model_test))\n",
    "laso_pred.index = model_test.index\n",
    "laso_pred.columns = ['revenue']\n",
    "laso_pred.to_csv('lasso.csv',index=False)"
   ]
  },
  {
   "cell_type": "code",
   "execution_count": null,
   "id": "19fae56c",
   "metadata": {},
   "outputs": [],
   "source": [
    "temp = pd.read_csv('lasso.csv')\n",
    "temp.head(10)"
   ]
  },
  {
   "cell_type": "markdown",
   "id": "3faa6772",
   "metadata": {},
   "source": [
    "### Linear Regression Prediction Series"
   ]
  },
  {
   "cell_type": "code",
   "execution_count": null,
   "id": "89824549",
   "metadata": {},
   "outputs": [],
   "source": [
    "lr_pred = pd.DataFrame(lr.predict(model_test))\n",
    "lr_pred.index = model_test.index\n",
    "lr_pred.columns = ['revenue']\n",
    "lr_pred.to_csv('lr.csv',index=False)"
   ]
  },
  {
   "cell_type": "code",
   "execution_count": null,
   "id": "dc9346ca",
   "metadata": {},
   "outputs": [],
   "source": [
    "temp = pd.read_csv('lr.csv')\n",
    "temp.head(10)"
   ]
  },
  {
   "cell_type": "markdown",
   "id": "ee36d1ba",
   "metadata": {},
   "source": [
    "## Stacking"
   ]
  },
  {
   "cell_type": "code",
   "execution_count": null,
   "id": "d32afeb3",
   "metadata": {},
   "outputs": [],
   "source": [
    "from sklearn.ensemble import StackingRegressor"
   ]
  },
  {
   "cell_type": "code",
   "execution_count": null,
   "id": "fecfa9bb",
   "metadata": {},
   "outputs": [],
   "source": [
    "models = [('lasso',Lasso(alpha=0.1),\n",
    "           ('rf',RandomForestRegressor(bootstrap= True, max_depth= 100, max_features= 3, min_samples_leaf= 3,\n",
    "                                       min_samples_split= 8, n_estimators= 100)),\n",
    "          ('gbm',GradientBoostingRegressor(learning_rate= 0.1, max_depth= 3, max_features= 'auto', min_samples_leaf= 3,\n",
    "                                             min_samples_split= 10, n_estimators=50)),\n",
    "          ('xgb',XGBRegressor(learning_rate= 0.1, max_depth= 3, min_child_weight= 5, n_estimators= 80)))]"
   ]
  },
  {
   "cell_type": "code",
   "execution_count": null,
   "id": "6e36b1c9",
   "metadata": {},
   "outputs": [],
   "source": [
    "stack = StackingRegressor(estimators=models,final_estimator=XGBRegressor(learning_rate= 0.1, max_depth= 3, min_child_weight= 5, n_estimators= 80),cv=5)\n",
    "stack.fit(X_train,y_train)\n",
    "evaluation(stack,X_train,y_train,X_test,y_test,'Stacking Regressor')"
   ]
  },
  {
   "cell_type": "code",
   "execution_count": null,
   "id": "4a45b585",
   "metadata": {},
   "outputs": [],
   "source": []
  }
 ],
 "metadata": {
  "kernelspec": {
   "display_name": "Python 3",
   "language": "python",
   "name": "python3"
  },
  "language_info": {
   "codemirror_mode": {
    "name": "ipython",
    "version": 3
   },
   "file_extension": ".py",
   "mimetype": "text/x-python",
   "name": "python",
   "nbconvert_exporter": "python",
   "pygments_lexer": "ipython3",
   "version": "3.8.8"
  }
 },
 "nbformat": 4,
 "nbformat_minor": 5
}
